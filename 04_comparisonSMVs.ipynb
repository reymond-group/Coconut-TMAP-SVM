{
 "cells": [
  {
   "cell_type": "code",
   "execution_count": 85,
   "metadata": {},
   "outputs": [
    {
     "name": "stdout",
     "output_type": "stream",
     "text": [
      "INFO: Pandarallel will run on 8 workers.\n",
      "INFO: Pandarallel will use Memory file system to transfer data between the main process and workers.\n"
     ]
    }
   ],
   "source": [
    "import pandas as pd\n",
    "from rdkit import Chem, DataStructs\n",
    "from rdkit.Chem import Lipinski, Descriptors, rdMolDescriptors, AllChem, PandasTools\n",
    "from pandarallel import pandarallel\n",
    "import numpy as np\n",
    "pandarallel.initialize(progress_bar=False)\n",
    "import tmap as tm\n",
    "from map4 import MAP4Calculator\n",
    "import os\n",
    "import joblib\n",
    "from sklearn import metrics\n",
    "from sklearn.pipeline import make_pipeline\n",
    "from sklearn import svm\n",
    "from sklearn.metrics import roc_curve\n",
    "from sklearn.metrics import roc_auc_score, make_scorer\n",
    "from sklearn.model_selection import GridSearchCV, StratifiedKFold\n",
    "from sklearn.preprocessing import StandardScaler\n",
    "import matplotlib.pyplot as plt\n",
    "import seaborn as sns\n",
    "\n",
    "folder = \"/data/coconut/\""
   ]
  },
  {
   "cell_type": "code",
   "execution_count": 2,
   "metadata": {},
   "outputs": [],
   "source": [
    "def fp_to_np(fp):\n",
    "    fp_array = np.zeros(1)\n",
    "    DataStructs.ConvertToNumpyArray(fp, fp_array)\n",
    "    return fp_array"
   ]
  },
  {
   "cell_type": "code",
   "execution_count": 3,
   "metadata": {},
   "outputs": [],
   "source": [
    "coconut = pd.read_pickle(folder + \"coconut_prop.pkl\")\n",
    "coconut[\"ecfp4\"] = coconut[\"ecfp4\"].map(fp_to_np)"
   ]
  },
  {
   "cell_type": "code",
   "execution_count": 4,
   "metadata": {},
   "outputs": [],
   "source": [
    "origins = [\"plants\", \"fungi\", \"bacteria\", \"animal\", \"Homo_sapiens\", \"marine\", \"other\"]\n",
    "def origin(simple_tax):\n",
    "    if simple_tax in origins:\n",
    "        return origins.index(simple_tax)\n"
   ]
  },
  {
   "cell_type": "code",
   "execution_count": 5,
   "metadata": {},
   "outputs": [],
   "source": [
    "coconut[\"origin\"] = coconut.simple_tax.map(origin)"
   ]
  },
  {
   "cell_type": "code",
   "execution_count": 6,
   "metadata": {},
   "outputs": [],
   "source": [
    "def norm_smiles(smiles):\n",
    "    mol = Chem.MolFromSmiles(smiles)\n",
    "    smiles_n = Chem.MolToSmiles(mol, isomericSmiles=False)\n",
    "    return smiles_n\n",
    "\n",
    "coconut[\"norm_smiles\"] = coconut[\"SMILES\"].map(norm_smiles) "
   ]
  },
  {
   "cell_type": "code",
   "execution_count": 7,
   "metadata": {},
   "outputs": [],
   "source": [
    "from itertools import product\n",
    "\n",
    "import numpy as np\n",
    "\n",
    "from sklearn.metrics import confusion_matrix\n",
    "from sklearn.utils import check_matplotlib_support\n",
    "from sklearn.utils.multiclass import unique_labels\n",
    "from sklearn.utils.validation import _deprecate_positional_args\n",
    "from sklearn.base import is_classifier\n",
    "import matplotlib\n",
    "\n",
    "class ConfusionMatrixDisplay:\n",
    "    \"\"\"Confusion Matrix visualization.\n",
    "    It is recommend to use :func:`~sklearn.metrics.plot_confusion_matrix` to\n",
    "    create a :class:`ConfusionMatrixDisplay`. All parameters are stored as\n",
    "    attributes.\n",
    "    Read more in the :ref:`User Guide <visualizations>`.\n",
    "    Parameters\n",
    "    ----------\n",
    "    confusion_matrix : ndarray of shape (n_classes, n_classes)\n",
    "        Confusion matrix.\n",
    "    display_labels : ndarray of shape (n_classes,)\n",
    "        Display labels for plot.\n",
    "    Attributes\n",
    "    ----------\n",
    "    im_ : matplotlib AxesImage\n",
    "        Image representing the confusion matrix.\n",
    "    text_ : ndarray of shape (n_classes, n_classes), dtype=matplotlib Text, \\\n",
    "            or None\n",
    "        Array of matplotlib axes. `None` if `include_values` is false.\n",
    "    ax_ : matplotlib Axes\n",
    "        Axes with confusion matrix.\n",
    "    figure_ : matplotlib Figure\n",
    "        Figure containing the confusion matrix.\n",
    "    \"\"\"\n",
    "    def __init__(self, confusion_matrix, display_labels):\n",
    "        self.confusion_matrix = confusion_matrix\n",
    "        self.display_labels = display_labels\n",
    "\n",
    "    def plot(self, include_values=True, cmap='viridis',\n",
    "             xticks_rotation='horizontal', values_format=None, ax=None):\n",
    "        \"\"\"Plot visualization.\n",
    "        Parameters\n",
    "        ----------\n",
    "        include_values : bool, default=True\n",
    "            Includes values in confusion matrix.\n",
    "        cmap : str or matplotlib Colormap, default='viridis'\n",
    "            Colormap recognized by matplotlib.\n",
    "        xticks_rotation : {'vertical', 'horizontal'} or float, \\\n",
    "                         default='horizontal'\n",
    "            Rotation of xtick labels.\n",
    "        values_format : str, default=None\n",
    "            Format specification for values in confusion matrix. If `None`,\n",
    "            the format specification is '.2g'.\n",
    "        ax : matplotlib axes, default=None\n",
    "            Axes object to plot on. If `None`, a new figure and axes is\n",
    "            created.\n",
    "        Returns\n",
    "        -------\n",
    "        display : :class:`~sklearn.metrics.ConfusionMatrixDisplay`\n",
    "        \"\"\"\n",
    "        check_matplotlib_support(\"ConfusionMatrixDisplay.plot\")\n",
    "        import matplotlib.pyplot as plt\n",
    "\n",
    "        if ax is None:\n",
    "            fig, ax = plt.subplots()\n",
    "        else:\n",
    "            fig = ax.figure\n",
    "\n",
    "        cm = self.confusion_matrix\n",
    "        n_classes = cm.shape[0]\n",
    "        self.im_ = ax.imshow(cm, interpolation='nearest', cmap=cmap, vmin=0, vmax=1,)\n",
    "        self.text_ = None\n",
    "\n",
    "        cmap_min, cmap_max = self.im_.cmap(0), self.im_.cmap(256)\n",
    "\n",
    "        if include_values:\n",
    "            self.text_ = np.empty_like(cm, dtype=object)\n",
    "            if values_format is None:\n",
    "                values_format = '.0%'\n",
    "\n",
    "            # print text with appropriate color depending on background\n",
    "            thresh = (cm.max() + cm.min()) / 2.0\n",
    "            for i, j in product(range(n_classes), range(n_classes)):\n",
    "                color = cmap_max if cm[i, j] < thresh else cmap_min\n",
    "                self.text_[i, j] = ax.text(j, i,\n",
    "                                           format(cm[i, j], values_format),\n",
    "                                           ha=\"center\", va=\"center\",\n",
    "                                           color=color, size= 6 )\n",
    "\n",
    "        \n",
    "        colorbar = fig.colorbar(self.im_, ax=ax)\n",
    "        colorbar.ax.tick_params(labelsize=6) \n",
    "        colorbar.set_ticks([0, .25, 0.5, .75, 1])\n",
    "        colorbar.set_ticklabels(['0%', '25%', '50%','75%', '100%'])\n",
    "        #colorbar.set_label(\"Predicted value/True Value\")\n",
    "        ax.set(xticks=np.arange(n_classes),\n",
    "               yticks=np.arange(n_classes),\n",
    "               xticklabels=self.display_labels,\n",
    "               yticklabels=self.display_labels,\n",
    "               ylabel=\"True label\",\n",
    "               xlabel=\"Predicted label\")\n",
    "\n",
    "        \n",
    "        ax.set_ylim((n_classes - 0.5, -0.5))\n",
    "        plt.setp(ax.get_xticklabels(), rotation=xticks_rotation, fontsize=6)\n",
    "        plt.setp(ax.get_yticklabels(), fontsize=6)\n",
    "        ax.xaxis.get_label().set_fontsize(6)\n",
    "        ax.yaxis.get_label().set_fontsize(6)\n",
    "        \n",
    "        self.figure_ = fig\n",
    "        self.ax_ = ax\n",
    "\n",
    "        return self\n",
    "\n",
    "\n",
    "\n",
    "def plot_confusion_matrix(y_pred, y_true, *, labels=None,\n",
    "                          sample_weight=None, normalize=None,\n",
    "                          display_labels=None, include_values=True,\n",
    "                          xticks_rotation='horizontal',\n",
    "                          values_format=None,\n",
    "                          cmap='viridis', ax=None, colorbar=False):\n",
    "\n",
    "    check_matplotlib_support(\"plot_confusion_matrix\")\n",
    "\n",
    "\n",
    "    cm = confusion_matrix(y_true, y_pred, sample_weight=sample_weight,\n",
    "                          labels=labels, normalize=normalize)\n",
    "\n",
    "    if display_labels is None:\n",
    "        display_labels = labels\n",
    "\n",
    "    disp = ConfusionMatrixDisplay(confusion_matrix=cm,\n",
    "                                  display_labels=display_labels)\n",
    "    return disp.plot(include_values=include_values,\n",
    "                     cmap=cmap, ax=ax, xticks_rotation=xticks_rotation,\n",
    "                     values_format=values_format)\n"
   ]
  },
  {
   "cell_type": "code",
   "execution_count": 8,
   "metadata": {},
   "outputs": [],
   "source": [
    "coconut = coconut.query(\"origin != 6 and origin != 5 and origin != 4 and origin != 3\").sort_values(\"origin\", ascending=False)"
   ]
  },
  {
   "cell_type": "code",
   "execution_count": 9,
   "metadata": {},
   "outputs": [
    {
     "name": "stderr",
     "output_type": "stream",
     "text": [
      "/home/alice/miniconda3/envs/aipep/lib/python3.6/site-packages/pandas/core/missing.py:47: FutureWarning: elementwise comparison failed; returning scalar instead, but in the future will perform elementwise comparison\n",
      "  mask = arr == x\n",
      "/home/alice/miniconda3/envs/aipep/lib/python3.6/site-packages/pandas/core/missing.py:58: FutureWarning: elementwise comparison failed; returning scalar instead, but in the future will perform elementwise comparison\n",
      "  mask |= arr == x\n"
     ]
    }
   ],
   "source": [
    "coconut.replace([\"NaN\", 'NaT'], np.nan, inplace = True)\n",
    "coconut = coconut.dropna()"
   ]
  },
  {
   "cell_type": "code",
   "execution_count": 10,
   "metadata": {},
   "outputs": [
    {
     "data": {
      "text/plain": [
       "60171"
      ]
     },
     "execution_count": 10,
     "metadata": {},
     "output_type": "execute_result"
    }
   ],
   "source": [
    "len(coconut)"
   ]
  },
  {
   "cell_type": "code",
   "execution_count": 11,
   "metadata": {},
   "outputs": [
    {
     "name": "stdout",
     "output_type": "stream",
     "text": [
      "0\n",
      "1\n",
      "2\n"
     ]
    }
   ],
   "source": [
    "coconut[\"Set\"] = \"test\"\n",
    "for i in range(3):\n",
    "    print(i)\n",
    "    coconut_training = coconut.query(\"origin == @i\").sample(frac=0.50, random_state=12)\n",
    "    coconut.loc[coconut_training.index, \"Set\"] = \"training\""
   ]
  },
  {
   "cell_type": "code",
   "execution_count": 12,
   "metadata": {},
   "outputs": [],
   "source": [
    "features = ['molecular_weight','number_of_carbons',\\\n",
    "       'number_of_nitrogens', 'number_of_oxygens',\\\n",
    "       'total_atom_number', 'bond_count', 'topoPSA', 'fcsp3', 'HBA',\\\n",
    "       'HBD', 'aLogP']"
   ]
  },
  {
   "cell_type": "code",
   "execution_count": 13,
   "metadata": {},
   "outputs": [],
   "source": [
    "for feat in features:\n",
    "    coconut[f\"{feat}\"]=coconut[f\"{feat}\"].map(float) "
   ]
  },
  {
   "cell_type": "code",
   "execution_count": 14,
   "metadata": {},
   "outputs": [],
   "source": [
    "def map4_kernel_SVM(a, b=None):\n",
    "    if b is None:\n",
    "        b=a\n",
    "    JS_all_pairs = np.zeros((len(a),len(b)))\n",
    "    for i,fp1 in enumerate(a):\n",
    "        for j,fp2 in enumerate(b):\n",
    "            JS_all_pairs[i,j] = np.float(np.count_nonzero(fp1 == fp2)) / np.float(len(fp1))\n",
    "    return JS_all_pairs\n",
    "\n",
    "\n",
    "def tanimoto_kernel_SVM(data_1, data_2):\n",
    "    \"\"\"\n",
    "    Tanimoto kernel\n",
    "        K(x, y) = <x, y> / (||x||^2 + ||y||^2 - <x, y>)\n",
    "    as defined in:\n",
    "    \"Graph Kernels for Chemical Informatics\"\n",
    "    Liva Ralaivola, Sanjay J. Swamidass, Hiroto Saigo and Pierre Baldi\n",
    "    Neural Networks\n",
    "    https://www.sciencedirect.com/science/article/pii/S0893608005001693\n",
    "    http://members.cbio.mines-paristech.fr/~jvert/svn/bibli/local/Ralaivola2005Graph.pdf\n",
    "    \"\"\"\n",
    "\n",
    "    norm_1 = (data_1 ** 2).sum(axis=1).reshape(data_1.shape[0], 1)\n",
    "    norm_2 = (data_2 ** 2).sum(axis=1).reshape(data_2.shape[0], 1)\n",
    "    prod = data_1.dot(data_2.T)\n",
    "\n",
    "    divisor = (norm_1 + norm_2.T - prod) + np.finfo(data_1.dtype).eps\n",
    "    return prod / divisor\n",
    "\n",
    "\n",
    "def dice_kernel_SVM(data_1, data_2):\n",
    "    \"\"\"\n",
    "    Sorensen kernel\n",
    "        K(x, y) = 2 <x, y> / (||x||^2 + ||y||^2)\n",
    "    as defined in:\n",
    "    \"Graph Kernels for Chemical Informatics\"\n",
    "    Liva Ralaivola, Sanjay J. Swamidass, Hiroto Saigo and Pierre Baldi\n",
    "    Neural Networks\n",
    "    http://citeseerx.ist.psu.edu/viewdoc/download?doi=10.1.1.92.483&rep=rep1&type=pdf\n",
    "    \"\"\"\n",
    "\n",
    "    norm_1 = (data_1 ** 2).sum(axis=1).reshape(data_1.shape[0], 1)\n",
    "    norm_2 = (data_2 ** 2).sum(axis=1).reshape(data_2.shape[0], 1)\n",
    "    prod = data_1.dot(data_2.T)\n",
    "    return 2 * prod / (norm_1 + norm_2.T)"
   ]
  },
  {
   "cell_type": "code",
   "execution_count": 15,
   "metadata": {},
   "outputs": [],
   "source": [
    "scores_dict = {\"balacc\": make_scorer(metrics.balanced_accuracy_score, greater_is_better=True),\\\n",
    "\"mcc\" : make_scorer(metrics.matthews_corrcoef, greater_is_better=True),\\\n",
    "\"f1\" : make_scorer(metrics.f1_score, greater_is_better=True, average=\"micro\")} "
   ]
  },
  {
   "cell_type": "code",
   "execution_count": 16,
   "metadata": {},
   "outputs": [],
   "source": [
    "metrics_dict = {\"balacc\": metrics.balanced_accuracy_score,\\\n",
    "\"mcc\" : metrics.matthews_corrcoef,\\\n",
    "\"f1\" : lambda y_true, y_pred: metrics.f1_score(y_true, y_pred, average=\"micro\")} "
   ]
  },
  {
   "cell_type": "markdown",
   "metadata": {},
   "source": [
    "## hyperparameters optimization and preliminary results"
   ]
  },
  {
   "cell_type": "code",
   "execution_count": 17,
   "metadata": {},
   "outputs": [],
   "source": [
    "features_to_test = {\"map4\": \"MAP4\",\n",
    "                   \"ecfp4\": \"ecfp4\",\n",
    "                  \"features\": features,\n",
    "                    \"ap\": \"ap\",}\n",
    "\n",
    "subsets = []\n",
    "for i in range(3):\n",
    "    for set_ in [\"training\", \"test\"]:\n",
    "        subsets.append(coconut.query(\"origin==@i and Set == @set_\").sample(frac=0.2, random_state=12))\n",
    "coconut_subset = pd.concat(subsets)"
   ]
  },
  {
   "cell_type": "code",
   "execution_count": 18,
   "metadata": {},
   "outputs": [
    {
     "data": {
      "text/html": [
       "<div>\n",
       "<style scoped>\n",
       "    .dataframe tbody tr th:only-of-type {\n",
       "        vertical-align: middle;\n",
       "    }\n",
       "\n",
       "    .dataframe tbody tr th {\n",
       "        vertical-align: top;\n",
       "    }\n",
       "\n",
       "    .dataframe thead th {\n",
       "        text-align: right;\n",
       "    }\n",
       "</style>\n",
       "<table border=\"1\" class=\"dataframe\">\n",
       "  <thead>\n",
       "    <tr style=\"text-align: right;\">\n",
       "      <th></th>\n",
       "      <th></th>\n",
       "      <th>coconut_id</th>\n",
       "      <th>inchi</th>\n",
       "      <th>inchikey</th>\n",
       "      <th>SMILES</th>\n",
       "      <th>sugar_free_smiles</th>\n",
       "      <th>molecular_formula</th>\n",
       "      <th>molecular_weight</th>\n",
       "      <th>citationDOI</th>\n",
       "      <th>textTaxa</th>\n",
       "      <th>name</th>\n",
       "      <th>...</th>\n",
       "      <th>has_lipo_chain</th>\n",
       "      <th>has_ring</th>\n",
       "      <th>has_sterol</th>\n",
       "      <th>n_rings_nosugar</th>\n",
       "      <th>mw_nolipidtail_nosugar</th>\n",
       "      <th>smarts</th>\n",
       "      <th>is_terminal</th>\n",
       "      <th>ecfp4</th>\n",
       "      <th>ap</th>\n",
       "      <th>norm_smiles</th>\n",
       "    </tr>\n",
       "    <tr>\n",
       "      <th>origin</th>\n",
       "      <th>Set</th>\n",
       "      <th></th>\n",
       "      <th></th>\n",
       "      <th></th>\n",
       "      <th></th>\n",
       "      <th></th>\n",
       "      <th></th>\n",
       "      <th></th>\n",
       "      <th></th>\n",
       "      <th></th>\n",
       "      <th></th>\n",
       "      <th></th>\n",
       "      <th></th>\n",
       "      <th></th>\n",
       "      <th></th>\n",
       "      <th></th>\n",
       "      <th></th>\n",
       "      <th></th>\n",
       "      <th></th>\n",
       "      <th></th>\n",
       "      <th></th>\n",
       "      <th></th>\n",
       "    </tr>\n",
       "  </thead>\n",
       "  <tbody>\n",
       "    <tr>\n",
       "      <th rowspan=\"2\" valign=\"top\">0</th>\n",
       "      <th>test</th>\n",
       "      <td>3377</td>\n",
       "      <td>3377</td>\n",
       "      <td>3377</td>\n",
       "      <td>3377</td>\n",
       "      <td>3377</td>\n",
       "      <td>3377</td>\n",
       "      <td>3377</td>\n",
       "      <td>3377</td>\n",
       "      <td>3377</td>\n",
       "      <td>3377</td>\n",
       "      <td>...</td>\n",
       "      <td>3377</td>\n",
       "      <td>3377</td>\n",
       "      <td>3377</td>\n",
       "      <td>3377</td>\n",
       "      <td>3377</td>\n",
       "      <td>3377</td>\n",
       "      <td>3377</td>\n",
       "      <td>3377</td>\n",
       "      <td>3377</td>\n",
       "      <td>3377</td>\n",
       "    </tr>\n",
       "    <tr>\n",
       "      <th>training</th>\n",
       "      <td>3377</td>\n",
       "      <td>3377</td>\n",
       "      <td>3377</td>\n",
       "      <td>3377</td>\n",
       "      <td>3377</td>\n",
       "      <td>3377</td>\n",
       "      <td>3377</td>\n",
       "      <td>3377</td>\n",
       "      <td>3377</td>\n",
       "      <td>3377</td>\n",
       "      <td>...</td>\n",
       "      <td>3377</td>\n",
       "      <td>3377</td>\n",
       "      <td>3377</td>\n",
       "      <td>3377</td>\n",
       "      <td>3377</td>\n",
       "      <td>3377</td>\n",
       "      <td>3377</td>\n",
       "      <td>3377</td>\n",
       "      <td>3377</td>\n",
       "      <td>3377</td>\n",
       "    </tr>\n",
       "    <tr>\n",
       "      <th rowspan=\"2\" valign=\"top\">1</th>\n",
       "      <th>test</th>\n",
       "      <td>1565</td>\n",
       "      <td>1565</td>\n",
       "      <td>1565</td>\n",
       "      <td>1565</td>\n",
       "      <td>1565</td>\n",
       "      <td>1565</td>\n",
       "      <td>1565</td>\n",
       "      <td>1565</td>\n",
       "      <td>1565</td>\n",
       "      <td>1565</td>\n",
       "      <td>...</td>\n",
       "      <td>1565</td>\n",
       "      <td>1565</td>\n",
       "      <td>1565</td>\n",
       "      <td>1565</td>\n",
       "      <td>1565</td>\n",
       "      <td>1565</td>\n",
       "      <td>1565</td>\n",
       "      <td>1565</td>\n",
       "      <td>1565</td>\n",
       "      <td>1565</td>\n",
       "    </tr>\n",
       "    <tr>\n",
       "      <th>training</th>\n",
       "      <td>1565</td>\n",
       "      <td>1565</td>\n",
       "      <td>1565</td>\n",
       "      <td>1565</td>\n",
       "      <td>1565</td>\n",
       "      <td>1565</td>\n",
       "      <td>1565</td>\n",
       "      <td>1565</td>\n",
       "      <td>1565</td>\n",
       "      <td>1565</td>\n",
       "      <td>...</td>\n",
       "      <td>1565</td>\n",
       "      <td>1565</td>\n",
       "      <td>1565</td>\n",
       "      <td>1565</td>\n",
       "      <td>1565</td>\n",
       "      <td>1565</td>\n",
       "      <td>1565</td>\n",
       "      <td>1565</td>\n",
       "      <td>1565</td>\n",
       "      <td>1565</td>\n",
       "    </tr>\n",
       "    <tr>\n",
       "      <th rowspan=\"2\" valign=\"top\">2</th>\n",
       "      <th>test</th>\n",
       "      <td>1075</td>\n",
       "      <td>1075</td>\n",
       "      <td>1075</td>\n",
       "      <td>1075</td>\n",
       "      <td>1075</td>\n",
       "      <td>1075</td>\n",
       "      <td>1075</td>\n",
       "      <td>1075</td>\n",
       "      <td>1075</td>\n",
       "      <td>1075</td>\n",
       "      <td>...</td>\n",
       "      <td>1075</td>\n",
       "      <td>1075</td>\n",
       "      <td>1075</td>\n",
       "      <td>1075</td>\n",
       "      <td>1075</td>\n",
       "      <td>1075</td>\n",
       "      <td>1075</td>\n",
       "      <td>1075</td>\n",
       "      <td>1075</td>\n",
       "      <td>1075</td>\n",
       "    </tr>\n",
       "    <tr>\n",
       "      <th>training</th>\n",
       "      <td>1075</td>\n",
       "      <td>1075</td>\n",
       "      <td>1075</td>\n",
       "      <td>1075</td>\n",
       "      <td>1075</td>\n",
       "      <td>1075</td>\n",
       "      <td>1075</td>\n",
       "      <td>1075</td>\n",
       "      <td>1075</td>\n",
       "      <td>1075</td>\n",
       "      <td>...</td>\n",
       "      <td>1075</td>\n",
       "      <td>1075</td>\n",
       "      <td>1075</td>\n",
       "      <td>1075</td>\n",
       "      <td>1075</td>\n",
       "      <td>1075</td>\n",
       "      <td>1075</td>\n",
       "      <td>1075</td>\n",
       "      <td>1075</td>\n",
       "      <td>1075</td>\n",
       "    </tr>\n",
       "  </tbody>\n",
       "</table>\n",
       "<p>6 rows × 48 columns</p>\n",
       "</div>"
      ],
      "text/plain": [
       "                 coconut_id  inchi  inchikey  SMILES  sugar_free_smiles  \\\n",
       "origin Set                                                                \n",
       "0      test            3377   3377      3377    3377               3377   \n",
       "       training        3377   3377      3377    3377               3377   \n",
       "1      test            1565   1565      1565    1565               1565   \n",
       "       training        1565   1565      1565    1565               1565   \n",
       "2      test            1075   1075      1075    1075               1075   \n",
       "       training        1075   1075      1075    1075               1075   \n",
       "\n",
       "                 molecular_formula  molecular_weight  citationDOI  textTaxa  \\\n",
       "origin Set                                                                    \n",
       "0      test                   3377              3377         3377      3377   \n",
       "       training               3377              3377         3377      3377   \n",
       "1      test                   1565              1565         1565      1565   \n",
       "       training               1565              1565         1565      1565   \n",
       "2      test                   1075              1075         1075      1075   \n",
       "       training               1075              1075         1075      1075   \n",
       "\n",
       "                 name  ...  has_lipo_chain  has_ring  has_sterol  \\\n",
       "origin Set             ...                                         \n",
       "0      test      3377  ...            3377      3377        3377   \n",
       "       training  3377  ...            3377      3377        3377   \n",
       "1      test      1565  ...            1565      1565        1565   \n",
       "       training  1565  ...            1565      1565        1565   \n",
       "2      test      1075  ...            1075      1075        1075   \n",
       "       training  1075  ...            1075      1075        1075   \n",
       "\n",
       "                 n_rings_nosugar  mw_nolipidtail_nosugar  smarts  is_terminal  \\\n",
       "origin Set                                                                      \n",
       "0      test                 3377                    3377    3377         3377   \n",
       "       training             3377                    3377    3377         3377   \n",
       "1      test                 1565                    1565    1565         1565   \n",
       "       training             1565                    1565    1565         1565   \n",
       "2      test                 1075                    1075    1075         1075   \n",
       "       training             1075                    1075    1075         1075   \n",
       "\n",
       "                 ecfp4    ap  norm_smiles  \n",
       "origin Set                                 \n",
       "0      test       3377  3377         3377  \n",
       "       training   3377  3377         3377  \n",
       "1      test       1565  1565         1565  \n",
       "       training   1565  1565         1565  \n",
       "2      test       1075  1075         1075  \n",
       "       training   1075  1075         1075  \n",
       "\n",
       "[6 rows x 48 columns]"
      ]
     },
     "execution_count": 18,
     "metadata": {},
     "output_type": "execute_result"
    }
   ],
   "source": [
    "coconut_subset.groupby([\"origin\", \"Set\"]).count()"
   ]
  },
  {
   "cell_type": "code",
   "execution_count": 19,
   "metadata": {},
   "outputs": [],
   "source": [
    "classifiers_subset = {}\n",
    "OVERWRITE_FILES = False\n",
    "for name, feature in features_to_test.items():\n",
    "    if not os.path.exists(folder +  f\"SVM-coconut.{name}.subset.pkl\") or OVERWRITE_FILES:\n",
    "        X = np.vstack(coconut_subset[coconut_subset[\"Set\"] == \"training\"][feature].to_numpy())\n",
    "        Y = coconut_subset[coconut_subset[\"Set\"] == \"training\"].origin.to_numpy()\n",
    "\n",
    "    \n",
    "        if name == \"map4\":\n",
    "            param_grid = {'svc__C': [0.1,1, 10, 100, 1000], \\\n",
    "                          'svc__kernel': [map4_kernel_SVM]}\n",
    "            base_clf = make_pipeline(svm.SVC(probability=False, class_weight=\"balanced\", cache_size=1900, random_state=12))\n",
    "        elif name == \"features\":\n",
    "            param_grid = {'svc__C': [0.1, 1, 10, 100, 1000], 'svc__gamma': [0.01, 0.1, 1, 10, 100],\\\n",
    "                  'svc__kernel': [\"rbf\"]}\n",
    "            base_clf = make_pipeline(StandardScaler(), svm.SVC(probability=False, class_weight=\"balanced\", cache_size=1900, random_state=12))\n",
    "        else:\n",
    "            param_grid = {'svc__C': [0.1,1, 10, 100, 1000], \\\n",
    "              'svc__kernel': [tanimoto_kernel_SVM, dice_kernel_SVM]}\n",
    "            base_clf = make_pipeline(svm.SVC(probability=False, class_weight=\"balanced\", cache_size=1900, random_state=12))\n",
    "\n",
    "        \n",
    "        splitter= StratifiedKFold(n_splits=5, shuffle=True, random_state=12)\n",
    "        grid = GridSearchCV(base_clf, param_grid,\\\n",
    "                            refit=\"balacc\",verbose=2, n_jobs=7, cv=splitter, scoring=scores_dict)\n",
    "\n",
    "        print(f\"Train {name}\")\n",
    "        grid.fit(X,Y)\n",
    "\n",
    "        if name not in classifiers_subset:\n",
    "            classifiers_subset[name] = []\n",
    "        classifiers_subset[name].append(grid)\n",
    "\n",
    "        joblib.dump(grid, folder + f\"SVM-coconut.{name}.subset.pkl\")\n",
    "    else:\n",
    "        grid = joblib.load(folder + f\"SVM-coconut.{name}.subset.pkl\")\n",
    "        if name not in classifiers_subset:\n",
    "            classifiers_subset[name] = []\n",
    "        classifiers_subset[name].append(grid)"
   ]
  },
  {
   "cell_type": "code",
   "execution_count": 20,
   "metadata": {},
   "outputs": [
    {
     "name": "stdout",
     "output_type": "stream",
     "text": [
      "map4\n",
      "{'svc__C': 1, 'svc__kernel': <function map4_kernel_SVM at 0x7fb216a6d488>}\n",
      "balacc 0.8345191726318262 +- 0.010929624167180851\n",
      "mcc 0.7621281543060106 +- 0.012007080896040684\n",
      "f1 0.859897183950423 +- 0.006360011854265646\n",
      "\n",
      "ecfp4\n",
      "{'svc__C': 1, 'svc__kernel': <function tanimoto_kernel_SVM at 0x7fb216a6db70>}\n",
      "balacc 0.7856504383073164 +- 0.011649163764654835\n",
      "mcc 0.6764944306438414 +- 0.016468614074397286\n",
      "f1 0.8062138397085912 +- 0.010001651192961054\n",
      "\n",
      "features\n",
      "{'svc__C': 1, 'svc__gamma': 1, 'svc__kernel': 'rbf'}\n",
      "balacc 0.6878160307868881 +- 0.01278102075526972\n",
      "mcc 0.5119421518301809 +- 0.016904734417418545\n",
      "f1 0.6988546076668792 +- 0.009882123633359694\n",
      "\n",
      "ap\n",
      "{'svc__C': 10, 'svc__kernel': <function tanimoto_kernel_SVM at 0x7fb216a55c80>}\n",
      "balacc 0.6218099001395736 +- 0.011825811067320101\n",
      "mcc 0.432612851026317 +- 0.016650307972408285\n",
      "f1 0.6591313797455419 +- 0.010773867783152093\n",
      "\n"
     ]
    }
   ],
   "source": [
    "for name, classifier__ in classifiers_subset.items():\n",
    "    print(name)\n",
    "    classifier__ = classifier__[0]\n",
    "    print(classifier__.best_params_)\n",
    "    for scorename in scores_dict:\n",
    "        print(scorename, classifier__.cv_results_[f'mean_test_{scorename}'][classifier__.best_index_], \"+-\", classifier__.cv_results_[f'std_test_{scorename}'][classifier__.best_index_])\n",
    "    print()"
   ]
  },
  {
   "cell_type": "code",
   "execution_count": 21,
   "metadata": {},
   "outputs": [
    {
     "name": "stdout",
     "output_type": "stream",
     "text": [
      "map4\n",
      "balacc 0.8347488459909123\n",
      "mcc 0.763635436841331\n",
      "f1 0.8607279375103872\n",
      "ecfp4\n",
      "balacc 0.7854582341121046\n",
      "mcc 0.6758085741127018\n",
      "f1 0.8060495263420309\n",
      "features\n",
      "balacc 0.684971732185185\n",
      "mcc 0.5131380118844332\n",
      "f1 0.701678577364135\n",
      "ap\n",
      "balacc 0.642982082794741\n",
      "mcc 0.45855876493142395\n",
      "f1 0.6724281203257437\n"
     ]
    }
   ],
   "source": [
    "for name, feature in features_to_test.items():\n",
    "    print(name)\n",
    "    classifier__ = classifiers_subset[name][0]\n",
    "    \n",
    "    x = np.vstack(coconut_subset[coconut_subset[\"Set\"] == \"test\"][feature].to_numpy())\n",
    "    y_true = coconut_subset[coconut_subset[\"Set\"] == \"test\"].origin.to_numpy()\n",
    "        \n",
    "        \n",
    "    y_pred = classifier__.predict(x)\n",
    "    \n",
    "    for metric_name, metric_fn in metrics_dict.items():\n",
    "        metric_result = metric_fn(y_true, y_pred) \n",
    "        print(metric_name, metric_result)\n",
    "    "
   ]
  },
  {
   "cell_type": "markdown",
   "metadata": {},
   "source": [
    "## comparison with ECFP4 AP and properties"
   ]
  },
  {
   "cell_type": "code",
   "execution_count": 23,
   "metadata": {},
   "outputs": [],
   "source": [
    "classifiers_all = {}\n",
    "\n",
    "features_to_test = {\"map4\": \"MAP4\",\n",
    "                   \"ecfp4\": \"ecfp4\",\n",
    "                    \"ap\": \"ap\",\n",
    "                  \"features\": features}\n",
    "\n",
    "\n",
    "for name, feature in features_to_test.items():\n",
    "    if not os.path.exists(folder + f\"SVM-coconut.{name}.all.pkl\"):\n",
    "        X = np.vstack(coconut[feature].to_numpy())\n",
    "        Y = coconut.origin.to_numpy()\n",
    "\n",
    "\n",
    "        if name == \"map4\":\n",
    "            param_grid = {'svc__C': [1], \\\n",
    "                          'svc__kernel': [map4_kernel_SVM]}\n",
    "            base_clf = make_pipeline(svm.SVC(probability=True, class_weight=\"balanced\", cache_size=1900, random_state=12))\n",
    "        elif name == \"features\":\n",
    "            param_grid = {'svc__C': [1], 'svc__gamma': [1],\\\n",
    "                  'svc__kernel': [\"rbf\"]}\n",
    "            base_clf = make_pipeline(StandardScaler(), svm.SVC(probability=True, class_weight=\"balanced\", cache_size=1900, random_state=12))\n",
    "\n",
    "        elif name == \"ecfp4\":\n",
    "            param_grid = {'svc__C': [1], \\\n",
    "              'svc__kernel': [tanimoto_kernel_SVM]}\n",
    "            base_clf = make_pipeline(svm.SVC(probability=True, class_weight=\"balanced\", cache_size=1900, random_state=12))\n",
    "\n",
    "        else:\n",
    "            param_grid = {'svc__C': [10], \\\n",
    "              'svc__kernel': [tanimoto_kernel_SVM]}\n",
    "            base_clf = make_pipeline(svm.SVC(probability=True, class_weight=\"balanced\", cache_size=1900, random_state=12))\n",
    "\n",
    "\n",
    "        splitter= StratifiedKFold(n_splits=5, shuffle=True, random_state=12)\n",
    "        grid = GridSearchCV(base_clf, param_grid,\\\n",
    "                            refit=\"balacc\",verbose=2, n_jobs=1, cv=splitter, scoring=scores_dict)\n",
    "\n",
    "\n",
    "        print(f\"Train {name}\")\n",
    "        grid.fit(X,Y)\n",
    "\n",
    "        if name not in classifiers_all:\n",
    "            classifiers_all[name] = []\n",
    "        classifiers_all[name].append(grid)\n",
    "\n",
    "        joblib.dump(grid, folder + f\"SVM-coconut.{name}.all.pkl\")\n",
    "    else:\n",
    "        grid = joblib.load(folder + f\"SVM-coconut.{name}.all.pkl\")\n",
    "        if name not in classifiers_all:\n",
    "            classifiers_all[name] = []\n",
    "        classifiers_all[name].append(grid)"
   ]
  },
  {
   "cell_type": "code",
   "execution_count": 24,
   "metadata": {},
   "outputs": [
    {
     "name": "stdout",
     "output_type": "stream",
     "text": [
      "map4\n",
      "{'svc__C': 1, 'svc__kernel': <function map4_kernel_SVM at 0x7fb218bf4c80>}\n",
      "balacc 0.9194259704079233 +- 0.004517651902782002\n",
      "mcc 0.8790331865495322 +- 0.004638930035819268\n",
      "f1 0.9286533978405871 +- 0.0026447328567348887\n",
      "\n",
      "ecfp4\n",
      "{'svc__C': 1, 'svc__kernel': <function tanimoto_kernel_SVM at 0x7fb218bf4e18>}\n",
      "balacc 0.889892247293691 +- 0.004926195555270775\n",
      "mcc 0.8265960156646223 +- 0.006087527442065774\n",
      "f1 0.896544889880279 +- 0.0034955353080574464\n",
      "\n",
      "features\n",
      "{'svc__C': 1, 'svc__gamma': 1, 'svc__kernel': 'rbf'}\n",
      "balacc 0.757714854807425 +- 0.005229965921990582\n",
      "mcc 0.6129185594547569 +- 0.0067048501220906415\n",
      "f1 0.7613137103093651 +- 0.003953601276181542\n",
      "\n",
      "ap\n",
      "{'svc__C': 10, 'svc__kernel': <function tanimoto_kernel_SVM at 0x7fb218bf4d90>}\n",
      "balacc 0.7351336539538783 +- 0.005153346306679389\n",
      "mcc 0.5922969140488954 +- 0.005847602674722551\n",
      "f1 0.7525883835986378 +- 0.0036283849992238973\n",
      "\n"
     ]
    }
   ],
   "source": [
    "for name, classifier__ in classifiers_all.items():\n",
    "    print(name)\n",
    "    classifier__ = classifier__[0]\n",
    "    print(classifier__.best_params_)\n",
    "    for scorename in scores_dict:\n",
    "        print(scorename, classifier__.cv_results_[f'mean_test_{scorename}'][classifier__.best_index_], \"+-\", classifier__.cv_results_[f'std_test_{scorename}'][classifier__.best_index_])\n",
    "    print()"
   ]
  },
  {
   "cell_type": "markdown",
   "metadata": {},
   "source": [
    "### 95% confidence intervals"
   ]
  },
  {
   "cell_type": "code",
   "execution_count": 285,
   "metadata": {},
   "outputs": [
    {
     "name": "stdout",
     "output_type": "stream",
     "text": [
      "map4\n",
      "{'svc__C': 1, 'svc__kernel': <function map4_kernel_SVM at 0x7fb218bf4c80>}\n",
      "balacc 0.9329789261162693 0.9058730146995773\n",
      "mcc 0.89294997665699 0.8651163964420744\n",
      "f1 0.9365875964107918 0.9207191992703824\n",
      "\n",
      "ecfp4\n",
      "{'svc__C': 1, 'svc__kernel': <function tanimoto_kernel_SVM at 0x7fb218bf4e18>}\n",
      "balacc 0.9046708339595033 0.8751136606278787\n",
      "mcc 0.8448585979908196 0.8083334333384249\n",
      "f1 0.9070314958044514 0.8860582839561066\n",
      "\n",
      "features\n",
      "{'svc__C': 1, 'svc__gamma': 1, 'svc__kernel': 'rbf'}\n",
      "balacc 0.7734047525733967 0.7420249570414532\n",
      "mcc 0.6330331098210289 0.592804009088485\n",
      "f1 0.7731745141379097 0.7494529064808205\n",
      "\n",
      "ap\n",
      "{'svc__C': 10, 'svc__kernel': <function tanimoto_kernel_SVM at 0x7fb218bf4d90>}\n",
      "balacc 0.7505936928739165 0.7196736150338401\n",
      "mcc 0.609839722073063 0.5747541060247278\n",
      "f1 0.7634735385963095 0.741703228600966\n",
      "\n"
     ]
    }
   ],
   "source": [
    "for name, classifier__ in classifiers_all.items():\n",
    "    print(name)\n",
    "    classifier__ = classifier__[0]\n",
    "    print(classifier__.best_params_)\n",
    "    for scorename in scores_dict:\n",
    "        print(scorename, float(classifier__.cv_results_[f'mean_test_{scorename}'][classifier__.best_index_])+3*(float(classifier__.cv_results_[f'std_test_{scorename}'][classifier__.best_index_])),\\\n",
    "             float(classifier__.cv_results_[f'mean_test_{scorename}'][classifier__.best_index_])-3*(float(classifier__.cv_results_[f'std_test_{scorename}'][classifier__.best_index_])))\n",
    "    print()"
   ]
  },
  {
   "cell_type": "code",
   "execution_count": 227,
   "metadata": {},
   "outputs": [],
   "source": []
  },
  {
   "cell_type": "code",
   "execution_count": 247,
   "metadata": {},
   "outputs": [],
   "source": [
    "df_plot = pd.DataFrame()\n",
    "simple_list = []\n",
    "for name, classifier__ in classifiers_all.items():\n",
    "    classifier__ = classifier__[0]\n",
    "    if name == \"features\":\n",
    "        name = \"Prop.\\nSVM\"\n",
    "    else:\n",
    "        name = name.upper()+\"\\nSVM\"\n",
    "    for i,scorename in enumerate(scores_dict):\n",
    "        mean = float(classifier__.cv_results_[f'mean_test_{scorename}'][classifier__.best_index_])\n",
    "        std = float(classifier__.cv_results_[f'std_test_{scorename}'][classifier__.best_index_])\n",
    "        ymax = mean+2*std\n",
    "        ymin = mean-2*std\n",
    "        simple_list.append([name, scorename, mean, ymin, ymax, (std*3)])\n",
    "\n",
    "df_plot=pd.DataFrame(simple_list,columns=['fingerprint','metric', \"mean\", \"LB\", \"UB\", \"int\"])"
   ]
  },
  {
   "cell_type": "code",
   "execution_count": 296,
   "metadata": {},
   "outputs": [],
   "source": [
    "df_plot\n",
    "\n",
    "df_plot_list_reordered = []\n",
    "for i in [\"MAP4\\nSVM\", \"ECFP4\\nSVM\", \"AP\\nSVM\", \"Prop.\\nSVM\"]:\n",
    "    tmp_df__ = df_plot.query(\"fingerprint == @i\")\n",
    "    df_plot_list_reordered.append(tmp_df__)\n",
    "    \n",
    "df_plot = pd.concat(df_plot_list_reordered)\n"
   ]
  },
  {
   "cell_type": "code",
   "execution_count": 297,
   "metadata": {},
   "outputs": [
    {
     "name": "stdout",
     "output_type": "stream",
     "text": [
      "0.0 0.9194259704079233\n",
      "1.0 0.889892247293691\n",
      "2.0 0.7351336539538783\n",
      "3.0 0.757714854807425\n"
     ]
    },
    {
     "data": {
      "image/png": "[encoded data removed]",
      "text/plain": [
       "<Figure size 216x360 with 1 Axes>"
      ]
     },
     "metadata": {
      "needs_background": "light"
     },
     "output_type": "display_data"
    }
   ],
   "source": [
    "sns.set_context(\"talk\", font_scale=0.75)\n",
    "fig, ax = plt.subplots(figsize=(3,5))\n",
    "sns.pointplot(ax =ax, x=\"fingerprint\", y=\"mean\", data=df_plot.query(\"metric=='balacc'\"), dodge=True, join=False, palette=sns.color_palette())\n",
    "ax.set(xlabel='Balanced Accuracy', ylabel='')\n",
    "x_coords = []\n",
    "y_coords = []\n",
    "for point_pair in ax.collections:\n",
    "    for x, y in point_pair.get_offsets():\n",
    "        print(x,y)\n",
    "        x_coords.append(x)\n",
    "        y_coords.append(y)\n",
    "lb = df_plot.query(\"metric=='balacc'\")[\"int\"].to_list()\n",
    "\n",
    "ax.errorbar(x_coords, y_coords, yerr=[lb, lb], fmt=\"none\", capsize=0, color=sns.color_palette())\n",
    "plt.tight_layout()\n",
    "plt.savefig(\"plots/balacc.svg\")"
   ]
  },
  {
   "cell_type": "code",
   "execution_count": 298,
   "metadata": {},
   "outputs": [
    {
     "data": {
      "text/plain": [
       "[<matplotlib.collections.PathCollection at 0x7fb21c004c18>,\n",
       " <matplotlib.collections.LineCollection at 0x7fb21c004208>]"
      ]
     },
     "execution_count": 298,
     "metadata": {},
     "output_type": "execute_result"
    }
   ],
   "source": [
    "ax.collections"
   ]
  },
  {
   "cell_type": "code",
   "execution_count": 299,
   "metadata": {},
   "outputs": [
    {
     "name": "stdout",
     "output_type": "stream",
     "text": [
      "0.0 0.8790331865495322\n",
      "1.0 0.8265960156646223\n",
      "2.0 0.5922969140488954\n",
      "3.0 0.6129185594547569\n"
     ]
    },
    {
     "data": {
      "image/png": "[encoded data removed]",
      "text/plain": [
       "<Figure size 216x360 with 1 Axes>"
      ]
     },
     "metadata": {
      "needs_background": "light"
     },
     "output_type": "display_data"
    }
   ],
   "source": [
    "fig, ax = plt.subplots(figsize=(3,5))\n",
    "sns.pointplot(ax =ax, x=\"fingerprint\", y=\"mean\", data=df_plot.query(\"metric=='mcc'\"), dodge=True, join=False, palette=sns.color_palette())\n",
    "ax.set(xlabel='MCC', ylabel='')\n",
    "x_coords = []\n",
    "y_coords = []\n",
    "for point_pair in ax.collections:\n",
    "    for x, y in point_pair.get_offsets():\n",
    "        print(x,y)\n",
    "        x_coords.append(x)\n",
    "        y_coords.append(y)\n",
    "\n",
    "lb = df_plot.query(\"metric=='mcc'\")[\"int\"].to_list()\n",
    "ax.errorbar(x_coords, y_coords, yerr=[lb, lb], fmt=\"none\", capsize=0, color=sns.color_palette())\n",
    "plt.tight_layout()\n",
    "plt.savefig(\"plots/mcc.svg\")"
   ]
  },
  {
   "cell_type": "code",
   "execution_count": 300,
   "metadata": {},
   "outputs": [
    {
     "name": "stdout",
     "output_type": "stream",
     "text": [
      "0.0 0.9286533978405871\n",
      "1.0 0.896544889880279\n",
      "2.0 0.7525883835986378\n",
      "3.0 0.7613137103093651\n"
     ]
    },
    {
     "data": {
      "image/png": "[encoded data removed]",
      "text/plain": [
       "<Figure size 216x360 with 1 Axes>"
      ]
     },
     "metadata": {
      "needs_background": "light"
     },
     "output_type": "display_data"
    }
   ],
   "source": [
    "fig, ax = plt.subplots(figsize=(3,5))\n",
    "sns.pointplot(ax =ax, x=\"fingerprint\", y=\"mean\", data=df_plot.query(\"metric=='f1'\"), dodge=True, join=False, palette=sns.color_palette())\n",
    "ax.set(xlabel='F1 Score', ylabel='')\n",
    "x_coords = []\n",
    "y_coords = []\n",
    "for point_pair in ax.collections:\n",
    "    for x, y in point_pair.get_offsets():\n",
    "        print(x,y)\n",
    "        x_coords.append(x)\n",
    "        y_coords.append(y)\n",
    "lb = df_plot.query(\"metric=='f1'\")[\"int\"].to_list()\n",
    "ax.errorbar(x_coords, y_coords, yerr=[lb, lb], fmt=\"none\", capsize=0, color = sns.color_palette())\n",
    "plt.tight_layout()\n",
    "plt.savefig(\"plots/f1.svg\")"
   ]
  },
  {
   "cell_type": "code",
   "execution_count": 301,
   "metadata": {},
   "outputs": [],
   "source": [
    "def ci_pointplot(input_df, x_col=\"metric\", y_col=\"mean\", hue_col=\"fingerprint\", lb_col=\"LB\", ub_col=\"UB\"):\n",
    "\n",
    "    palette_name = \"deep\"\n",
    "    cv_cycles = len(input_df[x_col].unique())\n",
    "    \n",
    "    ax = sns.pointplot(x=x_col, y=y_col, hue=hue_col, data=input_df, dodge=True, join=False, palettte=palette_name)\n",
    "    \n",
    "    colors = sns.color_palette(palette_name, len(input_df.metric.unique())) * cv_cycles\n",
    "    \n",
    "    ax.axvline(0.5, ls=\"--\", c=\"gray\")\n",
    "    \n",
    "    for x in np.arange(0.5, cv_cycles, 1):\n",
    "        ax.axvline(x, ls=\"--\", c=\"gray\")\n",
    "    \n",
    "    y_val = input_df[y_col]\n",
    "    lb = y_val - input_df[lb_col]\n",
    "    ub = input_df[ub_col] - y_val\n",
    "    \n",
    "    x_coords = []\n",
    "    y_coords = []\n",
    "    for point_pair in ax.collections:\n",
    "        for x, y in point_pair.get_offsets():\n",
    "            print(x,y)\n",
    "            x_coords.append(x)\n",
    "            y_coords.append(y)\n",
    "\n",
    "    for i in range(0, cv_cycles):\n",
    "        _ = ax.errorbar(x_coords, y_coords, yerr=[lb, ub], fmt=\"none\", capsize=0, color=colors)"
   ]
  },
  {
   "cell_type": "code",
   "execution_count": 302,
   "metadata": {},
   "outputs": [
    {
     "name": "stdout",
     "output_type": "stream",
     "text": [
      "-0.05 0.9194259704079233\n",
      "0.95 0.8790331865495322\n",
      "1.95 0.9286533978405871\n",
      "-0.01666666666666667 0.889892247293691\n",
      "0.9833333333333333 0.8265960156646223\n",
      "1.9833333333333334 0.896544889880279\n",
      "0.016666666666666663 0.7351336539538783\n",
      "1.0166666666666666 0.5922969140488954\n",
      "2.0166666666666666 0.7525883835986378\n",
      "0.05 0.757714854807425\n",
      "1.05 0.6129185594547569\n",
      "2.05 0.7613137103093651\n"
     ]
    },
    {
     "data": {
      "image/png": "[encoded data removed]",
      "text/plain": [
       "<Figure size 432x288 with 1 Axes>"
      ]
     },
     "metadata": {
      "needs_background": "light"
     },
     "output_type": "display_data"
    }
   ],
   "source": [
    "ci_pointplot(df_plot)"
   ]
  },
  {
   "cell_type": "markdown",
   "metadata": {},
   "source": [
    "## train MAP4 SVM with all data (60k)"
   ]
  },
  {
   "cell_type": "code",
   "execution_count": 31,
   "metadata": {},
   "outputs": [],
   "source": [
    "if not os.path.exists(folder + f\"MAP4-SVM-coconut.all.pkl\"):\n",
    "    X = np.vstack(coconut.MAP4.to_numpy())\n",
    "    Y = coconut.origin.to_numpy()\n",
    "\n",
    "    classifier = svm.SVC(probability=True, class_weight=\"balanced\", cache_size=1900, random_state=12, C=1, kernel=map4_kernel_SVM)\n",
    "      \n",
    "    classifier.fit(X,Y)\n",
    "\n",
    "    joblib.dump(classifier, folder + f\"MAP4-SVM-coconut.all.pkl\")\n",
    "else:\n",
    "    classifier = joblib.load(folder + f\"MAP4-SVM-coconut.all.pkl\")"
   ]
  },
  {
   "cell_type": "code",
   "execution_count": 32,
   "metadata": {},
   "outputs": [
    {
     "data": {
      "text/plain": [
       "SVC(C=1, break_ties=False, cache_size=1900, class_weight='balanced', coef0=0.0,\n",
       "    decision_function_shape='ovr', degree=3, gamma='scale',\n",
       "    kernel=<function map4_kernel_SVM at 0x7fb21cab97b8>, max_iter=-1,\n",
       "    probability=True, random_state=12, shrinking=True, tol=0.001,\n",
       "    verbose=False)"
      ]
     },
     "execution_count": 32,
     "metadata": {},
     "output_type": "execute_result"
    }
   ],
   "source": [
    "classifier"
   ]
  },
  {
   "cell_type": "code",
   "execution_count": 36,
   "metadata": {},
   "outputs": [
    {
     "data": {
      "text/plain": [
       "60171"
      ]
     },
     "execution_count": 36,
     "metadata": {},
     "output_type": "execute_result"
    }
   ],
   "source": [
    "len(Y)"
   ]
  },
  {
   "cell_type": "code",
   "execution_count": null,
   "metadata": {},
   "outputs": [],
   "source": []
  }
 ],
 "metadata": {
  "kernelspec": {
   "display_name": "Python 3",
   "language": "python",
   "name": "python3"
  },
  "language_info": {
   "codemirror_mode": {
    "name": "ipython",
    "version": 3
   },
   "file_extension": ".py",
   "mimetype": "text/x-python",
   "name": "python",
   "nbconvert_exporter": "python",
   "pygments_lexer": "ipython3",
   "version": "3.6.10"
  }
 },
 "nbformat": 4,
 "nbformat_minor": 4
}
