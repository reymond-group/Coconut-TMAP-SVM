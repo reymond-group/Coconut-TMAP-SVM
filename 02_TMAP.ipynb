{
 "cells": [
  {
   "cell_type": "code",
   "execution_count": 1,
   "metadata": {},
   "outputs": [
    {
     "name": "stdout",
     "output_type": "stream",
     "text": [
      "INFO: Pandarallel will run on 8 workers.\n",
      "INFO: Pandarallel will use Memory file system to transfer data between the main process and workers.\n"
     ]
    }
   ],
   "source": [
    "import pandas as pd\n",
    "from rdkit import Chem, DataStructs\n",
    "from rdkit.Chem import Lipinski, Descriptors, rdMolDescriptors, AllChem, PandasTools\n",
    "from pandarallel import pandarallel\n",
    "import numpy as np\n",
    "pandarallel.initialize(progress_bar=False)\n",
    "import tmap as tm\n",
    "from map4 import MAP4Calculator\n",
    "import os\n",
    "import joblib\n",
    "from sklearn import metrics\n",
    "from sklearn.pipeline import make_pipeline\n",
    "from sklearn import svm\n",
    "from sklearn.metrics import roc_curve\n",
    "from sklearn.metrics import roc_auc_score\n",
    "from sklearn.model_selection import GridSearchCV\n",
    "from sklearn.preprocessing import StandardScaler\n",
    "folder = \"/data/coconut/\""
   ]
  },
  {
   "cell_type": "code",
   "execution_count": 2,
   "metadata": {},
   "outputs": [],
   "source": [
    "coconut = pd.read_pickle(folder + \"coconut_prop.pkl\")"
   ]
  },
  {
   "cell_type": "code",
   "execution_count": 3,
   "metadata": {},
   "outputs": [],
   "source": [
    "origins = [\"plants\", \"fungi\", \"bacteria\", \"animal\", \"Homo_sapiens\", \"marine\", \"other\"]\n",
    "def origin(simple_tax):\n",
    "    if simple_tax in origins:\n",
    "        return origins.index(simple_tax)\n"
   ]
  },
  {
   "cell_type": "code",
   "execution_count": 4,
   "metadata": {},
   "outputs": [],
   "source": [
    "coconut[\"origin\"] = coconut.simple_tax.map(origin)"
   ]
  },
  {
   "cell_type": "code",
   "execution_count": 5,
   "metadata": {},
   "outputs": [],
   "source": [
    "def norm_smiles(smiles):\n",
    "    mol = Chem.MolFromSmiles(smiles)\n",
    "    smiles_n = Chem.MolToSmiles(mol, isomericSmiles=False)\n",
    "    return smiles_n\n",
    "\n",
    "coconut[\"norm_smiles\"] = coconut[\"SMILES\"].map(norm_smiles) "
   ]
  },
  {
   "cell_type": "code",
   "execution_count": 6,
   "metadata": {},
   "outputs": [],
   "source": [
    "coconut = coconut.query(\"origin != 6 and origin != 5 and origin != 4 and origin != 3\").sort_values(\"origin\", ascending=False)"
   ]
  },
  {
   "cell_type": "code",
   "execution_count": 7,
   "metadata": {},
   "outputs": [
    {
     "name": "stderr",
     "output_type": "stream",
     "text": [
      "/home/alice/miniconda3/envs/aipep/lib/python3.6/site-packages/pandas/core/missing.py:47: FutureWarning: elementwise comparison failed; returning scalar instead, but in the future will perform elementwise comparison\n",
      "  mask = arr == x\n",
      "/home/alice/miniconda3/envs/aipep/lib/python3.6/site-packages/pandas/core/missing.py:58: FutureWarning: elementwise comparison failed; returning scalar instead, but in the future will perform elementwise comparison\n",
      "  mask |= arr == x\n"
     ]
    }
   ],
   "source": [
    "coconut.replace([\"NaN\", 'NaT'], np.nan, inplace = True)\n",
    "coconut = coconut.dropna()"
   ]
  },
  {
   "cell_type": "code",
   "execution_count": 8,
   "metadata": {},
   "outputs": [
    {
     "data": {
      "text/plain": [
       "60171"
      ]
     },
     "execution_count": 8,
     "metadata": {},
     "output_type": "execute_result"
    }
   ],
   "source": [
    "len(coconut)"
   ]
  },
  {
   "cell_type": "code",
   "execution_count": 14,
   "metadata": {},
   "outputs": [],
   "source": [
    "features = ['molecular_weight','number_of_carbons',\\\n",
    "       'number_of_nitrogens', 'number_of_oxygens',\\\n",
    "       'total_atom_number', 'bond_count', 'topoPSA', 'fcsp3', 'HBA',\\\n",
    "       'HBD', 'aLogP']\n",
    "for feat in features:\n",
    "    coconut[f\"{feat}\"]=coconut[f\"{feat}\"].map(float) "
   ]
  },
  {
   "cell_type": "code",
   "execution_count": 15,
   "metadata": {},
   "outputs": [],
   "source": [
    "if not os.path.exists(folder+\"coconut_LSHforest_Micro_Plants\"):\n",
    "    fps = coconut[\"MAP4\"].tolist()\n",
    "    fps_ = []\n",
    "\n",
    "    for fp in fps:\n",
    "        fp_ = tm.VectorUint(fp)\n",
    "        fps_.append(fp_)\n",
    "\n",
    "    lf = tm.LSHForest(1024, 32)\n",
    "    lf.batch_add(fps_)\n",
    "\n",
    "    lf.index()\n",
    "    lf.store(folder + 'coconut_LSHforest_Micro_Plants')\n",
    "else:\n",
    "    lf = tm.LSHForest(1024, 32)\n",
    "    lf.restore(folder + 'coconut_LSHforest_Micro_Plants')"
   ]
  },
  {
   "cell_type": "code",
   "execution_count": 16,
   "metadata": {},
   "outputs": [],
   "source": [
    "if not os.path.exists(folder+\"coconut_tm_layout_Micro_Plants.pkl\"):\n",
    "    cfg = tm.LayoutConfiguration()\n",
    "\n",
    "    # config\n",
    "    cfg.node_size = 1 / 30\n",
    "    cfg.mmm_repeats = 2\n",
    "    cfg.sl_extra_scaling_steps = 5\n",
    "    cfg.k = 20\n",
    "    cfg.sl_scaling_type = tm.RelativeToAvgLength\n",
    "    # Compute the layout\n",
    "\n",
    "    x_, y_, s, t, gp = tm.layout_from_lsh_forest(lf, cfg)\n",
    "    tm_layout = {\"x\": list(x_), \"y\": list(y_), \"s\" : list(s), \"t\" : list(t)}\n",
    "    joblib.dump(tm_layout, folder+\"coconut_tm_layout_Micro_Plants.pkl\")\n",
    "else:\n",
    "    tm_layout = joblib.load(folder+\"coconut_tm_layout_Micro_Plants.pkl\")"
   ]
  },
  {
   "cell_type": "code",
   "execution_count": 17,
   "metadata": {},
   "outputs": [],
   "source": [
    "tmp = coconut.copy()\n",
    "\n",
    "idx = tmp[tmp[\"MW\"] >= 1000].index\n",
    "tmp.loc[idx, \"MW\"] = 1000\n",
    "\n",
    "idx = tmp[tmp.HBA >= 20].index\n",
    "tmp.loc[idx, \"HBA\"] = 20\n",
    "\n",
    "idx = tmp[tmp.HBD >= 10].index\n",
    "tmp.loc[idx, \"HBD\"] = 10\n",
    "\n",
    "idx = tmp[tmp.aLogP >= 8].index\n",
    "tmp.loc[idx, \"aLogP\"] = 8\n",
    "\n",
    "idx = tmp[tmp.aLogP <= -2].index\n",
    "tmp.loc[idx, \"aLogP\"] = -2\n",
    "\n",
    "n_C = tmp.number_of_carbons.tolist()\n",
    "n_O = tmp.number_of_oxygens.tolist()\n",
    "n_N = tmp.number_of_nitrogens.tolist()\n",
    "n_a = tmp.total_atom_number.tolist()\n",
    "n_b = tmp.bond_count.tolist()\n",
    "TPSA = tmp.topoPSA.tolist()\n",
    "MW = tmp.MW.tolist()\n",
    "fcsp3 = tmp.fcsp3.tolist()\n",
    "HBA = tmp.HBA.tolist()\n",
    "HBD = tmp.HBD.tolist()\n",
    "alogp = tmp.aLogP.tolist()\n",
    "\n",
    "isLipinski = tmp.isLipinski.tolist()\n",
    "\n",
    "isPeptide = tmp.isPeptide.tolist()\n",
    "hasSugar = tmp.hasSugar.tolist()\n",
    "labels = tmp.TMAPlabel.tolist()\n",
    "SMILES = tmp.SMILES.tolist()\n",
    "ID = tmp.coconut_id.tolist()\n",
    "origin = tmp.origin.tolist()"
   ]
  },
  {
   "cell_type": "code",
   "execution_count": 18,
   "metadata": {},
   "outputs": [],
   "source": [
    "from matplotlib.colors import ListedColormap\n",
    "from faerun import Faerun\n",
    "custom_cmap = ListedColormap([ 'lightgray', \"magenta\"], name=\"custom\")\n",
    "custom_cmap2 = ListedColormap([ 'limegreen', \"lightgray\"], name=\"custom2\")\n",
    "custom_cmap3 = ListedColormap([ \"lightgray\",\"cyan\", \"magenta\"], name=\"custom3\")\n",
    "custom_cmap4 = ListedColormap([ \"limegreen\", \"blue\", \"tomato\", \"tomato\", \"pink\", \"cyan\",\"lightgray\"], name=\"custom4\")\n",
    "custom_cmap4_b = ListedColormap([ \"limegreen\", \"cyan\", \"tomato\", \"tomato\", \"pink\", \"cyan\",\"lightgray\"], name=\"custom4\")\n",
    "\n",
    "groups = [\"0-No\", \"1-Yes\"]\n",
    "labels_groups, groups = Faerun.create_categories(groups)\n",
    "\n",
    "groups3 = [\"0-plants\", \"1-fungi\", \"2-bacteria\"]#, \"3-animals\", \"4-Homo sapiens\", \"6-others\"]\n",
    "labels_groups3, groups3 = Faerun.create_categories(groups3)"
   ]
  },
  {
   "cell_type": "code",
   "execution_count": 19,
   "metadata": {},
   "outputs": [
    {
     "data": {
      "text/html": [
       "\n",
       "        <iframe\n",
       "            width=\"100%\"\n",
       "            height=\"500\"\n",
       "            src=\"./MAP4_curatedCOCONUT_TMAP_MicrobialAndPlants.html\"\n",
       "            frameborder=\"0\"\n",
       "            allowfullscreen\n",
       "        ></iframe>\n",
       "        "
      ],
      "text/plain": [
       "<IPython.lib.display.IFrame at 0x7ff265824e48>"
      ]
     },
     "metadata": {},
     "output_type": "display_data"
    },
    {
     "data": {
      "text/html": [
       "<a href='./MAP4_curatedCOCONUT_TMAP_MicrobialAndPlants.html' target='_blank'>./MAP4_curatedCOCONUT_TMAP_MicrobialAndPlants.html</a><br>"
      ],
      "text/plain": [
       "/home/alice/Code/coconut_clean/MAP4_curatedCOCONUT_TMAP_MicrobialAndPlants.html"
      ]
     },
     "metadata": {},
     "output_type": "display_data"
    }
   ],
   "source": [
    "faerun = Faerun(view=\"front\", coords=False, title='MAP4_curatedCOCONUT_TMAP_MicrobialAndPlants', clear_color=\"#ffffff\",)\n",
    "faerun.add_scatter(\"MAP4_curatedCOCONUT_TMAP_MicrobialAndPlants\",{\"x\": tm.VectorFloat(tm_layout[\"x\"]), \"y\": tm.VectorFloat(tm_layout[\"y\"]), \"c\": [MW, fcsp3, HBA,\\\n",
    "                                        HBD, alogp,  n_C, n_O, n_N, n_a, n_b, TPSA,\\\n",
    "                                           isPeptide, hasSugar, isLipinski, origin],\\\n",
    "                          \"labels\": labels}, has_legend=True, \\\n",
    "    colormap=[\"rainbow\", \"rainbow\", \"rainbow\", \"rainbow\", \"rainbow\",\"rainbow\",\"rainbow\", \"rainbow\", \"rainbow\", \"rainbow\", \"rainbow\", \\\n",
    "             custom_cmap, custom_cmap, custom_cmap2,custom_cmap4], \\\n",
    "        point_scale=2, categorical=[False, False, False, False, False, False, False, False, False, False, False, True, True, True, True],\\\n",
    "        series_title=[\"MW\", \"Fraction sp3 C\", \"HBA count\", \"HBD count\", \"AlogP\",'number of carbons',\\\n",
    "       'number of nitrogens', 'number of oxygens',\\\n",
    "       'total atom number', 'bond count', 'topoPSA',\"Peptide\", \"Sugar\", \"is Lipinski\", \"Origin\"], \\\n",
    "            max_legend_label=[\">=1000\", str(round(max(fcsp3),2)), \">=20\",\\\n",
    "                              \">=10\", \">=8\", str(round(max(n_C),2)), str(round(max(n_O),2)),str(round(max(n_N),2)), \\\n",
    "                              str(round(max(n_a),2)), str(round(max(n_b),2)), str(round(max(TPSA),2)), None, None, None, None],\\\n",
    "                   min_legend_label=[str(round(min(MW),2)), str(round(min(fcsp3),2)), str(round(min(HBA),2)),\\\n",
    "                              str(round(min(HBD),2)), \"<=2\", str(round(min(n_C),2)), str(round(min(n_O),2)), str(round(min(n_N),2)), \\\n",
    "                              str(round(min(n_a),2)), str(round(min(n_b),2)), str(round(min(TPSA),2)), None, None, None, None],\\\n",
    "                    legend_labels=[None, None, None, None, None, None, None, None, None, None, None, labels_groups, labels_groups, labels_groups, labels_groups3])\n",
    "\n",
    "faerun.add_tree(\"MAP4_curatedCOCONUT_TMAP_MicrobialAndPlants_tree\",{\"from\": tm.VectorUint(tm_layout[\"s\"]), \"to\": tm.VectorUint(tm_layout[\"t\"])},\\\n",
    "                point_helper=\"MAP4_curatedCOCONUT_TMAP_MicrobialAndPlants\", color=\"aaaaaa\")\n",
    "faerun.plot('MAP4_curatedCOCONUT_TMAP_MicrobialAndPlants', template = 'smiles')"
   ]
  },
  {
   "cell_type": "code",
   "execution_count": 20,
   "metadata": {},
   "outputs": [
    {
     "data": {
      "text/html": [
       "\n",
       "        <iframe\n",
       "            width=\"100%\"\n",
       "            height=\"500\"\n",
       "            src=\"./MAP4_curatedCOCONUT_TMAP_MicrobialAndPlants_b.html\"\n",
       "            frameborder=\"0\"\n",
       "            allowfullscreen\n",
       "        ></iframe>\n",
       "        "
      ],
      "text/plain": [
       "<IPython.lib.display.IFrame at 0x7ff2657c1748>"
      ]
     },
     "metadata": {},
     "output_type": "display_data"
    },
    {
     "data": {
      "text/html": [
       "<a href='./MAP4_curatedCOCONUT_TMAP_MicrobialAndPlants_b.html' target='_blank'>./MAP4_curatedCOCONUT_TMAP_MicrobialAndPlants_b.html</a><br>"
      ],
      "text/plain": [
       "/home/alice/Code/coconut_clean/MAP4_curatedCOCONUT_TMAP_MicrobialAndPlants_b.html"
      ]
     },
     "metadata": {},
     "output_type": "display_data"
    }
   ],
   "source": [
    "faerun = Faerun(view=\"front\", coords=False, title='MAP4_curatedCOCONUT_TMAP_MicrobialAndPlants_b')\n",
    "faerun.add_scatter(\"MAP4_curatedCOCONUT_TMAP_MicrobialAndPlants_b\",{\"x\": tm.VectorFloat(tm_layout[\"x\"]), \"y\": tm.VectorFloat(tm_layout[\"y\"]), \"c\": [MW, fcsp3, HBA,\\\n",
    "                                        HBD, alogp,  n_C, n_O, n_N, n_a, n_b, TPSA,\\\n",
    "                                           isPeptide, hasSugar, isLipinski, origin],\\\n",
    "                          \"labels\": labels}, has_legend=True, \\\n",
    "    colormap=[\"rainbow\", \"rainbow\", \"rainbow\", \"rainbow\", \"rainbow\",\"rainbow\",\"rainbow\", \"rainbow\", \"rainbow\", \"rainbow\", \"rainbow\", \\\n",
    "             custom_cmap, custom_cmap, custom_cmap2,custom_cmap4_b], \\\n",
    "        point_scale=2, categorical=[False, False, False, False, False, False, False, False, False, False, False, True, True, True, True],\\\n",
    "        series_title=[\"MW\", \"Fraction sp3 C\", \"HBA count\", \"HBD count\", \"AlogP\",'number of carbons',\\\n",
    "       'number of nitrogens', 'number of oxygens',\\\n",
    "       'total atom number', 'bond count', 'topoPSA',\"Peptide\", \"Sugar\", \"is Lipinski\", \"Origin\"], \\\n",
    "            max_legend_label=[\">=1000\", str(round(max(fcsp3),2)), \">=20\",\\\n",
    "                              \">=10\", \">=8\", str(round(max(n_C),2)), str(round(max(n_O),2)),str(round(max(n_N),2)), \\\n",
    "                              str(round(max(n_a),2)), str(round(max(n_b),2)), str(round(max(TPSA),2)), None, None, None, None],\\\n",
    "                   min_legend_label=[str(round(min(MW),2)), str(round(min(fcsp3),2)), str(round(min(HBA),2)),\\\n",
    "                              str(round(min(HBD),2)), \"<=2\", str(round(min(n_C),2)), str(round(min(n_O),2)), str(round(min(n_N),2)), \\\n",
    "                              str(round(min(n_a),2)), str(round(min(n_b),2)), str(round(min(TPSA),2)), None, None, None, None],\\\n",
    "                    legend_labels=[None, None, None, None, None, None, None, None, None, None, None, labels_groups, labels_groups, labels_groups, labels_groups3])\n",
    "\n",
    "faerun.add_tree(\"MAP4_curatedCOCONUT_TMAP_MicrobialAndPlants_b_tree\",{\"from\": tm.VectorUint(tm_layout[\"s\"]), \"to\": tm.VectorUint(tm_layout[\"t\"])},\\\n",
    "                point_helper=\"MAP4_curatedCOCONUT_TMAP_MicrobialAndPlants_b\", color=\"aaaaaa\")\n",
    "faerun.plot('MAP4_curatedCOCONUT_TMAP_MicrobialAndPlants_b', template = 'smiles')"
   ]
  },
  {
   "cell_type": "code",
   "execution_count": null,
   "metadata": {},
   "outputs": [],
   "source": []
  }
 ],
 "metadata": {
  "kernelspec": {
   "display_name": "Python 3",
   "language": "python",
   "name": "python3"
  },
  "language_info": {
   "codemirror_mode": {
    "name": "ipython",
    "version": 3
   },
   "file_extension": ".py",
   "mimetype": "text/x-python",
   "name": "python",
   "nbconvert_exporter": "python",
   "pygments_lexer": "ipython3",
   "version": "3.6.10"
  }
 },
 "nbformat": 4,
 "nbformat_minor": 4
}
