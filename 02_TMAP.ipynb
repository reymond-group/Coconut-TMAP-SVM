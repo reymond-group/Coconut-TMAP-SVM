{
 "cells": [
  {
   "cell_type": "code",
   "execution_count": 22,
   "metadata": {},
   "outputs": [
    {
     "name": "stdout",
     "output_type": "stream",
     "text": [
      "INFO: Pandarallel will run on 8 workers.\n",
      "INFO: Pandarallel will use Memory file system to transfer data between the main process and workers.\n"
     ]
    }
   ],
   "source": [
    "import pandas as pd\n",
    "from rdkit import Chem, DataStructs\n",
    "from rdkit.Chem import Lipinski, Descriptors, rdMolDescriptors, AllChem, PandasTools\n",
    "from pandarallel import pandarallel\n",
    "import numpy as np\n",
    "pandarallel.initialize(progress_bar=False)\n",
    "import tmap as tm\n",
    "from map4 import MAP4Calculator\n",
    "import os\n",
    "import joblib\n",
    "from sklearn import metrics\n",
    "from sklearn.pipeline import make_pipeline\n",
    "from sklearn import svm\n",
    "from sklearn.metrics import roc_curve\n",
    "from sklearn.metrics import roc_auc_score\n",
    "from sklearn.model_selection import GridSearchCV\n",
    "from sklearn.preprocessing import StandardScaler\n",
    "folder = \"/data/coconut/\""
   ]
  },
  {
   "cell_type": "code",
   "execution_count": 23,
   "metadata": {},
   "outputs": [],
   "source": [
    "coconut = pd.read_pickle(folder + \"coconut_prop.pkl\")"
   ]
  },
  {
   "cell_type": "code",
   "execution_count": 24,
   "metadata": {},
   "outputs": [],
   "source": [
    "origins = [\"plants\", \"fungi\", \"bacteria\", \"animal\", \"Homo_sapiens\", \"marine\", \"other\"]\n",
    "def origin(simple_tax):\n",
    "    if simple_tax in origins:\n",
    "        return origins.index(simple_tax)\n"
   ]
  },
  {
   "cell_type": "code",
   "execution_count": 25,
   "metadata": {},
   "outputs": [],
   "source": [
    "coconut[\"origin\"] = coconut.simple_tax.map(origin)"
   ]
  },
  {
   "cell_type": "code",
   "execution_count": 26,
   "metadata": {},
   "outputs": [],
   "source": [
    "def norm_smiles(smiles):\n",
    "    mol = Chem.MolFromSmiles(smiles)\n",
    "    smiles_n = Chem.MolToSmiles(mol, isomericSmiles=False)\n",
    "    return smiles_n\n",
    "\n",
    "coconut[\"norm_smiles\"] = coconut[\"SMILES\"].map(norm_smiles) "
   ]
  },
  {
   "cell_type": "code",
   "execution_count": 27,
   "metadata": {},
   "outputs": [],
   "source": [
    "coconut = coconut.query(\"origin != 6 and origin != 5 and origin != 4 and origin != 3\").sort_values(\"origin\", ascending=False)"
   ]
  },
  {
   "cell_type": "code",
   "execution_count": 28,
   "metadata": {},
   "outputs": [
    {
     "name": "stderr",
     "output_type": "stream",
     "text": [
      "/home/alice/miniconda3/envs/aipep/lib/python3.6/site-packages/pandas/core/missing.py:47: FutureWarning: elementwise comparison failed; returning scalar instead, but in the future will perform elementwise comparison\n",
      "  mask = arr == x\n",
      "/home/alice/miniconda3/envs/aipep/lib/python3.6/site-packages/pandas/core/missing.py:58: FutureWarning: elementwise comparison failed; returning scalar instead, but in the future will perform elementwise comparison\n",
      "  mask |= arr == x\n"
     ]
    }
   ],
   "source": [
    "coconut.replace([\"NaN\", 'NaT'], np.nan, inplace = True)\n",
    "coconut = coconut.dropna()"
   ]
  },
  {
   "cell_type": "code",
   "execution_count": 29,
   "metadata": {},
   "outputs": [
    {
     "data": {
      "text/plain": [
       "60171"
      ]
     },
     "execution_count": 29,
     "metadata": {},
     "output_type": "execute_result"
    }
   ],
   "source": [
    "len(coconut)"
   ]
  },
  {
   "cell_type": "code",
   "execution_count": 30,
   "metadata": {},
   "outputs": [],
   "source": [
    "features = ['molecular_weight','number_of_carbons',\\\n",
    "       'number_of_nitrogens', 'number_of_oxygens',\\\n",
    "       'total_atom_number', 'bond_count', 'topoPSA', 'fcsp3', 'HBA',\\\n",
    "       'HBD', 'aLogP']\n",
    "for feat in features:\n",
    "    coconut[f\"{feat}\"]=coconut[f\"{feat}\"].map(float) "
   ]
  },
  {
   "cell_type": "code",
   "execution_count": 31,
   "metadata": {},
   "outputs": [],
   "source": [
    "if not os.path.exists(folder+\"coconut_LSHforest_Micro_Plants\"):\n",
    "    fps = coconut[\"MAP4\"].tolist()\n",
    "    fps_ = []\n",
    "\n",
    "    for fp in fps:\n",
    "        fp_ = tm.VectorUint(fp)\n",
    "        fps_.append(fp_)\n",
    "\n",
    "    lf = tm.LSHForest(1024, 32)\n",
    "    lf.batch_add(fps_)\n",
    "\n",
    "    lf.index()\n",
    "    lf.store(folder + 'coconut_LSHforest_Micro_Plants')\n",
    "else:\n",
    "    lf = tm.LSHForest(1024, 32)\n",
    "    lf.restore(folder + 'coconut_LSHforest_Micro_Plants')"
   ]
  },
  {
   "cell_type": "code",
   "execution_count": 32,
   "metadata": {},
   "outputs": [],
   "source": [
    "if not os.path.exists(folder+\"coconut_tm_layout_Micro_Plants.pkl\"):\n",
    "    cfg = tm.LayoutConfiguration()\n",
    "\n",
    "    # config\n",
    "    cfg.node_size = 1 / 30\n",
    "    cfg.mmm_repeats = 2\n",
    "    cfg.sl_extra_scaling_steps = 5\n",
    "    cfg.k = 20\n",
    "    cfg.sl_scaling_type = tm.RelativeToAvgLength\n",
    "    # Compute the layout\n",
    "\n",
    "    x_, y_, s, t, gp = tm.layout_from_lsh_forest(lf, cfg)\n",
    "    tm_layout = {\"x\": list(x_), \"y\": list(y_), \"s\" : list(s), \"t\" : list(t)}\n",
    "    joblib.dump(tm_layout, folder+\"coconut_tm_layout_Micro_Plants.pkl\")\n",
    "else:\n",
    "    tm_layout = joblib.load(folder+\"coconut_tm_layout_Micro_Plants.pkl\")"
   ]
  },
  {
   "cell_type": "code",
   "execution_count": 33,
   "metadata": {},
   "outputs": [],
   "source": [
    "coconut[\"LOW_fcsp3\"] = coconut.fcsp3.map(lambda x: x<=0.2)\n",
    "coconut[\"MED_fcsp3\"] = coconut.fcsp3.map(lambda x: x<0.8)\n",
    "coconut[\"HIGH_fcsp3\"] = coconut.fcsp3.map(lambda x: x>=0.8)\n",
    "coconut[\"LOW_mw\"] = coconut.MW.map(lambda x: x<=300)\n",
    "coconut[\"MED_mw\"] = coconut.MW.map(lambda x: x<800)\n",
    "coconut[\"HIGH_mw\"] = coconut.MW.map(lambda x: x>=800)"
   ]
  },
  {
   "cell_type": "code",
   "execution_count": 74,
   "metadata": {},
   "outputs": [],
   "source": [
    "def smarts(row):\n",
    "    if row.hasSugar and row.isPeptide:\n",
    "        return 2\n",
    "    elif row.isPeptide:\n",
    "        return 1\n",
    "    elif row.hasSugar:\n",
    "        return 0\n",
    "    else:\n",
    "        return 3"
   ]
  },
  {
   "cell_type": "code",
   "execution_count": 75,
   "metadata": {},
   "outputs": [],
   "source": [
    "def assign_table_color(row):\n",
    "    if row.hasSugar:\n",
    "        return 0\n",
    "    elif row.isPeptide:\n",
    "        return 1\n",
    "    elif row.HIGH_mw:\n",
    "        return 2\n",
    "    elif row.HIGH_fcsp3:\n",
    "        return 3\n",
    "    elif row.LOW_fcsp3:\n",
    "        return 4\n",
    "    elif row.LOW_mw:\n",
    "        return 5\n",
    "    else:\n",
    "        return 6"
   ]
  },
  {
   "cell_type": "code",
   "execution_count": 76,
   "metadata": {},
   "outputs": [],
   "source": [
    "coconut[\"smarts\"] =  coconut.apply(smarts, 1)"
   ]
  },
  {
   "cell_type": "code",
   "execution_count": 77,
   "metadata": {},
   "outputs": [],
   "source": [
    "coconut[\"color_table\"] = coconut.apply(assign_table_color, 1)"
   ]
  },
  {
   "cell_type": "markdown",
   "metadata": {},
   "source": [
    " sugar>peptide>highMW>higcoconutp3>lowfsp3>lowMW"
   ]
  },
  {
   "cell_type": "code",
   "execution_count": 78,
   "metadata": {},
   "outputs": [],
   "source": [
    "tmp = coconut.copy()\n",
    "\n",
    "idx = tmp[tmp[\"MW\"] >= 1000].index\n",
    "tmp.loc[idx, \"MW\"] = 1000\n",
    "\n",
    "idx = tmp[tmp.HBA >= 20].index\n",
    "tmp.loc[idx, \"HBA\"] = 20\n",
    "\n",
    "idx = tmp[tmp.HBD >= 10].index\n",
    "tmp.loc[idx, \"HBD\"] = 10\n",
    "\n",
    "idx = tmp[tmp.aLogP >= 8].index\n",
    "tmp.loc[idx, \"aLogP\"] = 8\n",
    "\n",
    "idx = tmp[tmp.aLogP <= -2].index\n",
    "tmp.loc[idx, \"aLogP\"] = -2\n",
    "\n",
    "n_C = tmp.number_of_carbons.tolist()\n",
    "n_O = tmp.number_of_oxygens.tolist()\n",
    "n_N = tmp.number_of_nitrogens.tolist()\n",
    "n_a = tmp.total_atom_number.tolist()\n",
    "n_b = tmp.bond_count.tolist()\n",
    "TPSA = tmp.topoPSA.tolist()\n",
    "MW = tmp.MW.tolist()\n",
    "fcsp3 = tmp.fcsp3.tolist()\n",
    "HBA = tmp.HBA.tolist()\n",
    "HBD = tmp.HBD.tolist()\n",
    "alogp = tmp.aLogP.tolist()\n",
    "\n",
    "isLipinski = tmp.isLipinski.tolist()\n",
    "\n",
    "isPeptide = tmp.isPeptide.tolist()\n",
    "hasSugar = tmp.hasSugar.tolist()\n",
    "labels = tmp.TMAPlabel.tolist()\n",
    "SMILES = tmp.SMILES.tolist()\n",
    "ID = tmp.coconut_id.tolist()\n",
    "origin = tmp.origin.tolist()\n",
    "color_table = tmp.color_table.tolist()\n",
    "smarts = tmp.smarts.tolist()"
   ]
  },
  {
   "cell_type": "code",
   "execution_count": 109,
   "metadata": {},
   "outputs": [],
   "source": [
    "from matplotlib.colors import ListedColormap\n",
    "from faerun import Faerun\n",
    "custom_cmap = ListedColormap([ 'lightgray', \"magenta\"], name=\"custom\")\n",
    "custom_cmap2 = ListedColormap([ 'limegreen', \"lightgray\"], name=\"custom2\")\n",
    "custom_cmap3 = ListedColormap([ \"lightgray\",\"cyan\", \"magenta\"], name=\"custom3\")\n",
    "custom_cmap4 = ListedColormap([ \"limegreen\", \"blue\", \"tomato\", \"magenta\", \"green\", \"red\",\"lightgray\"], name=\"custom4\")\n",
    "custom_cmap4_b = ListedColormap([ \"limegreen\", \"cyan\", \"tomato\", \"magenta\", \"pink\", \"cyan\",\"darkgray\"], name=\"custom4\")\n",
    "\n",
    "custom_cmap5 = ListedColormap([ \"blue\", \"cyan\", \"green\", \"yellow\", \"orange\", \"red\",\"gray\"], name=\"custom4\")\n",
    "custom_cmap5_b = ListedColormap([ \"blue\", \"cyan\", \"green\", \"yellow\", \"orange\", \"red\",\"gray\"], name=\"custom4\")\n",
    "\n",
    "custom_cmap6 = ListedColormap([  \"cyan\", \"limegreen\", \"magenta\", \"gray\"], name=\"custom6\")\n",
    "custom_cmap6_b = ListedColormap([ \"blue\", \"green\", \"magenta\", \"lightgray\"], name=\"custom6\")\n",
    "\n",
    "\n",
    "groups = [\"0-No\", \"1-Yes\"]\n",
    "labels_groups, groups = Faerun.create_categories(groups)\n",
    "\n",
    "groups4 = [\"0-Plants\", \"1-Fungi\", \"2-Bacteria\"]#, \"3-animals\", \"4-Homo sapiens\", \"6-others\"]\n",
    "labels_groups4, groups4 = Faerun.create_categories(groups4)\n",
    "\n",
    "\n",
    "groups3 = [\"0-CyclicAcetals\", \"1-Peptide\", \"2-CyclicAcetals and Peptide\", \"3-None\"]#, \"3-animals\", \"4-Homo sapiens\", \"6-others\"]\n",
    "labels_groups3, groups3 = Faerun.create_categories(groups3)\n",
    "\n",
    "groups2 =  [\"0-Glycoside\", \"1-Peptide\", \"2-HighMW(>=800Da)\", \"3-Highfsp3(>=0.8)\", \"4-Lowfsp3(<=0.2)\", \"5-LowMW(<=300Da)\", \"6-Other\"]\n",
    "labels_groups2, groups2 = Faerun.create_categories(groups2)"
   ]
  },
  {
   "cell_type": "markdown",
   "metadata": {},
   "source": [
    "origin., sugar, peptide, table1 categories\n",
    "e origin., sugar, peptide, table1 categories, would be listed just below the MW and fsp3 categories."
   ]
  },
  {
   "cell_type": "code",
   "execution_count": 110,
   "metadata": {},
   "outputs": [
    {
     "data": {
      "text/html": [
       "\n",
       "        <iframe\n",
       "            width=\"100%\"\n",
       "            height=\"500\"\n",
       "            src=\"./MAP4_curatedCOCONUT_TMAP_MicrobialAndPlants.html\"\n",
       "            frameborder=\"0\"\n",
       "            allowfullscreen\n",
       "        ></iframe>\n",
       "        "
      ],
      "text/plain": [
       "<IPython.lib.display.IFrame at 0x7ff2687e2748>"
      ]
     },
     "metadata": {},
     "output_type": "display_data"
    },
    {
     "data": {
      "text/html": [
       "<a href='./MAP4_curatedCOCONUT_TMAP_MicrobialAndPlants.html' target='_blank'>./MAP4_curatedCOCONUT_TMAP_MicrobialAndPlants.html</a><br>"
      ],
      "text/plain": [
       "/home/alice/Code/coconut_clean/MAP4_curatedCOCONUT_TMAP_MicrobialAndPlants.html"
      ]
     },
     "metadata": {},
     "output_type": "display_data"
    }
   ],
   "source": [
    "faerun = Faerun(view=\"front\", coords=False, title='MAP4_curatedCOCONUT_TMAP_MicrobialAndPlants', clear_color=\"#ffffff\")\n",
    "faerun.add_scatter(\"MAP4_curatedCOCONUT_TMAP_MicrobialAndPlants\",{\"x\": tm.VectorFloat(tm_layout[\"x\"]), \"y\": tm.VectorFloat(tm_layout[\"y\"]),\\\n",
    "                        \"c\": [MW, fcsp3, origin, smarts, color_table, alogp],\\\n",
    "                          \"labels\": labels}, \n",
    "                            has_legend=True, \\\n",
    "                            colormap=[\"rainbow\", \"rainbow\", \\\n",
    "                            custom_cmap4, custom_cmap6_b, custom_cmap5_b, \"rainbow\"], \\\n",
    "                            point_scale=2, categorical=[False, False, True, True, True, False],\\\n",
    "                            series_title=[\"MW\", \"Fsp3\", \"Origin\", \"Cyclic Acetals and Peptide substructure\", \"Table1 Categories\", \"AlogP\"], \\\n",
    "                            max_legend_label=[\">=1000\", str(round(max(fcsp3),2)), None, None, None,\">=8\"],\\\n",
    "                            min_legend_label=[str(round(min(MW),2)), str(round(min(fcsp3),2)), None, None, None,\"<=2\"],\\\n",
    "                            legend_labels=[None, None, labels_groups4, labels_groups3, labels_groups2, None])\n",
    "\n",
    "\n",
    "faerun.add_tree(\"MAP4_curatedCOCONUT_TMAP_MicrobialAndPlants_tree\",{\"from\": tm.VectorUint(tm_layout[\"s\"]), \"to\": tm.VectorUint(tm_layout[\"t\"])},\\\n",
    "                point_helper=\"MAP4_curatedCOCONUT_TMAP_MicrobialAndPlants\", color=\"aaaaaa\")\n",
    "faerun.plot('MAP4_curatedCOCONUT_TMAP_MicrobialAndPlants', template = 'smiles')"
   ]
  },
  {
   "cell_type": "code",
   "execution_count": 111,
   "metadata": {},
   "outputs": [
    {
     "data": {
      "text/html": [
       "\n",
       "        <iframe\n",
       "            width=\"100%\"\n",
       "            height=\"500\"\n",
       "            src=\"./MAP4_curatedCOCONUT_TMAP_MicrobialAndPlants_b.html\"\n",
       "            frameborder=\"0\"\n",
       "            allowfullscreen\n",
       "        ></iframe>\n",
       "        "
      ],
      "text/plain": [
       "<IPython.lib.display.IFrame at 0x7ff268d7e2b0>"
      ]
     },
     "metadata": {},
     "output_type": "display_data"
    },
    {
     "data": {
      "text/html": [
       "<a href='./MAP4_curatedCOCONUT_TMAP_MicrobialAndPlants_b.html' target='_blank'>./MAP4_curatedCOCONUT_TMAP_MicrobialAndPlants_b.html</a><br>"
      ],
      "text/plain": [
       "/home/alice/Code/coconut_clean/MAP4_curatedCOCONUT_TMAP_MicrobialAndPlants_b.html"
      ]
     },
     "metadata": {},
     "output_type": "display_data"
    }
   ],
   "source": [
    "faerun = Faerun(view=\"front\", coords=False, title='MAP4_curatedCOCONUT_TMAP_MicrobialAndPlants_b')\n",
    "faerun.add_scatter(\"MAP4_curatedCOCONUT_TMAP_MicrobialAndPlants_b\",{\"x\": tm.VectorFloat(tm_layout[\"x\"]), \"y\": tm.VectorFloat(tm_layout[\"y\"]),\\\n",
    "                        \"c\": [MW, fcsp3, origin, smarts, color_table, alogp],\\\n",
    "                          \"labels\": labels}, \n",
    "                            has_legend=True, \\\n",
    "                            colormap=[\"rainbow\", \"rainbow\", \\\n",
    "                            custom_cmap4_b, custom_cmap6, custom_cmap5_b, \"rainbow\"], \\\n",
    "                            point_scale=2, categorical=[False, False, True, True, True, False],\\\n",
    "                            series_title=[\"MW\", \"Fsp3\", \"Origin\", \"Glycoside and Peptide substructure\", \"Table1 Categories\", \"AlogP\"], \\\n",
    "                            max_legend_label=[\">=1000\", str(round(max(fcsp3),2)), None, None, None,\">=8\"],\\\n",
    "                            min_legend_label=[str(round(min(MW),2)), str(round(min(fcsp3),2)), None, None, None,\"<=2\"],\\\n",
    "                            legend_labels=[None, None, labels_groups4, labels_groups3, labels_groups2, None])\n",
    "\n",
    "faerun.add_tree(\"MAP4_curatedCOCONUT_TMAP_MicrobialAndPlants_b_tree\",{\"from\": tm.VectorUint(tm_layout[\"s\"]), \"to\": tm.VectorUint(tm_layout[\"t\"])},\\\n",
    "                point_helper=\"MAP4_curatedCOCONUT_TMAP_MicrobialAndPlants_b\", color=\"aaaaaa\")\n",
    "faerun.plot('MAP4_curatedCOCONUT_TMAP_MicrobialAndPlants_b', template = 'smiles')"
   ]
  },
  {
   "cell_type": "code",
   "execution_count": null,
   "metadata": {},
   "outputs": [],
   "source": []
  },
  {
   "cell_type": "code",
   "execution_count": null,
   "metadata": {},
   "outputs": [],
   "source": []
  }
 ],
 "metadata": {
  "kernelspec": {
   "display_name": "Python 3",
   "language": "python",
   "name": "python3"
  },
  "language_info": {
   "codemirror_mode": {
    "name": "ipython",
    "version": 3
   },
   "file_extension": ".py",
   "mimetype": "text/x-python",
   "name": "python",
   "nbconvert_exporter": "python",
   "pygments_lexer": "ipython3",
   "version": "3.6.10"
  }
 },
 "nbformat": 4,
 "nbformat_minor": 4
}
