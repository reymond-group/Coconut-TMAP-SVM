{
 "cells": [
  {
   "cell_type": "code",
   "execution_count": 1,
   "metadata": {},
   "outputs": [
    {
     "name": "stdout",
     "output_type": "stream",
     "text": [
      "INFO: Pandarallel will run on 8 workers.\n",
      "INFO: Pandarallel will use Memory file system to transfer data between the main process and workers.\n"
     ]
    }
   ],
   "source": [
    "import pandas as pd\n",
    "from pandas import Series\n",
    "import numpy as np\n",
    "import os\n",
    "import pickle\n",
    "import random\n",
    "from collections import Counter\n",
    "from operator import itemgetter\n",
    "import joblib\n",
    "from pandarallel import pandarallel\n",
    "pandarallel.initialize(progress_bar=True)\n",
    "from scipy.stats import rankdata\n",
    "from sklearn import metrics\n",
    "from sklearn.pipeline import make_pipeline\n",
    "from sklearn import svm\n",
    "from sklearn.metrics import roc_curve\n",
    "from sklearn.metrics import roc_auc_score\n",
    "from sklearn.model_selection import GridSearchCV\n",
    "from sklearn.neighbors import KNeighborsClassifier\n",
    "from rdkit import Chem\n",
    "from rdkit.Chem.rdmolfiles import MolToSmiles, MolFromSmiles\n",
    "from rdkit.Chem import Lipinski, Descriptors\n",
    "import matplotlib.pyplot as plt\n",
    "import seaborn as sns\n",
    "from matplotlib.colors import ListedColormap\n",
    "import tmap as tm\n",
    "from faerun import Faerun\n",
    "from map4 import MAP4Calculator"
   ]
  },
  {
   "cell_type": "code",
   "execution_count": 2,
   "metadata": {},
   "outputs": [],
   "source": [
    "folder = \"/data/lipoNP/\""
   ]
  },
  {
   "cell_type": "markdown",
   "metadata": {},
   "source": [
    "# TEST with Epicospirocins, penicimeroterpenoids, and Phakefustatin A + SI structures\n",
    "We considered the class *bacterium* to be the positive class and the class *fungus* to be the negative one. "
   ]
  },
  {
   "cell_type": "code",
   "execution_count": 111,
   "metadata": {},
   "outputs": [],
   "source": [
    "epicospirocins_smiles_list = [\"OC1=C(O)C(O)=C(C(OC)OC23CC(C(O)=C(O)C(O)=C4C)=C4CO3)C2=C1C\", \\\n",
    "          \"OC1=C(O)C(C)=C(C(OC)OC23CC(C(O)=C(O)C(O)=C4C)=C4CO3)C2=C1O\", \\\n",
    "          \"OC5=C(O)C(O)=C(C(O)OC67CC(C(O)=C(O)C(O)=C8C)=C8CO7)C6=C5C\", \\\n",
    "          \"OC9=C(O)C(C)=C(C(O)OC%10%11CC(C(O)=C(O)C(O)=C%12C)=C%12CO%11)C%10=C9O\"]\n",
    "\n",
    "Rhizolutin_smiles = \"C/C1=C\\[C@H](O2)[C@@](/C=C/C(C)=C\\[C@]3([H])[C@]1([H])C[C@H](CC)OC3=O)([H])C[C@H](O)CC2=O\"\n",
    "\n",
    "penicimeroterpenoids_smiles_list = [\"O=C1[C@@](C)(O)C([C@@]2(C(OC)=O)[C@@]3(C)C[C@H](OC4=O)[C@]5([H])C(C)(C)[C@@H](OC(C)=O)CC[C@@]54[C@]3([H])[C@@H]1C(C)=C2C)=O\", \\\n",
    "              \"C[C@]12C[C@H](OC3=O)[C@]4([H])C(C)(C)[C@@H](OC(C)=O)CC[C@@]43[C@]1([H])C=C(C)[C@]5(C)[C@@]2(C(OC)=O)C([C@]5(O)C)=O\", \\\n",
    "              \"C[C@]12C[C@H](OC3=O)[C@]4([H])C(C)(C)[C@@H](OC(C)=O)CC[C@@]43[C@]1([H])C=C(C)[C@]5(C)[C@@]2(C(OC)=O)[C@@](O)(C)C5=O\"]\n",
    "\n",
    "BosamycinA_smiles = \"N[C@H](CC1=CC=C(O)C=C1)C(N[C@@H](CC(C)C)C(N[C@H]([C@H](C(O)=O)O)C(N[C@@H](CO)C(N[C@H](CC2=CC=C(O)C=C2OC)C(N[C@@H](CC(C)C)C(NCC(O)=O)=O)=O)=O)=O)=O)=O\"\n",
    "\n",
    "phakefustatin_smiles = \"O=C(N1[C@@H](CCC1)C(N[C@@H](CC2=CC=CC=C2)C(N3)=O)=O)[C@H](C(C)C)NC([C@H]4N(C([C@H]5N(C([C@H](CCCNC(N)=N)NC([C@@H]3CC(C6=CC=CC=C6N)=O)=O)=O)CCC5)=O)CCC4)=O\"\n",
    "\n",
    "SI_smiles_list = [\"OC[C@@H](O1)[C@@H](O)[C@H](O)[C@@H](O)[C@@H]1OCCC2=CC=C(O)C=C2\", \"OC(CCC/C=C1C[C@@H]2[C@H]([C@@H](C[C@@H]2O/1)O)/C=C/[C@H](CCCCC)O)=O\", \\\n",
    "               \"CC[C@H]1[C@@H](C)C(C(C)=C([C@H]([C@@H](O)CC)C)O1)=O\", \"C[C@@H]([C@H]1CC[C@@H]2[C@]1(C)CC[C@H]3[C@H]2CC=C4[C@]3(C)CC[C@H](O)C4)CCCC(C)C\", \\\n",
    "               \"OC/C=C(C)/CC/C=C(C)/CC/C=C(C)\\C\", \"O[C@@H]1[C@H](CC[C@@H](C1)C)C(C)C\", \"O=CC1=CC=CC=C1\", \\\n",
    "               \"CC1C(=O)NC(C(=O)NC2CSSCC3C(=O)NC(C(=O)NC(C(=O)NCC(=O)NC(C(=O)NC(CSSCC(C(=O)NC(CSSCC(C(=O)NC(C(=O)NCC(=O)NC(C(=O)NCC(=O)N1)CCCCN)CCCCN)N)C(=O)NC(C(=O)NCC(=O)NC(C(=O)N3)CO)C(C)O)NC(=O)C(NC(=O)C(NC(=O)C(NC(=O)C(NC(=O)C(NC(=O)C(NC2=O)CO)CCCNC(=N)N)CC(C)C)CCSC)CC4=CC=C(C=C4)O)CC(=O)O)C(=O)N)CCCCN)CO)CCCNC(=N)N)CCCCN\"]\n",
    "\n",
    "\n",
    "\n",
    "#new_plants:\n",
    "hunzeylanineA_smiles = \"[H][C@]1(C(OC)=O)N2C3=CC=CC=C3[C@]45[C@@]2(OC6=CC7=C([C@@]8(C9(C(OC)=O)CO%10)[C@]%10([C@@](C[C@H]9/C(C%11)=C\\C)([H])N%11CC8)N7C)C=C6C5)[C@@](C[C@@]1([H])/C(C%12)=C\\C)([H])N%12CC4\"   \n",
    "hyperfolB_smiles = \"O=C([C@@]1(C/C=C(C)/C)C[C@H](C/C=C(C)/C)/C(C)=C2/C(C(C)C)=O)[C@@](C/C=C(C)/C)(OC1=O)C2=O\"\n",
    "pegaharmolA_smiles = \"OC1=CC=C2C(NC3=C2C=CN=C3C4=NC(N)=NC=C4)=C1[C@@]5([H])N6C([C@@H](O)CC6)=NC7=C5C=CC=C7\"\n",
    "perovsfolinA_smiles = \"OC(C(O)=C1)=CC2=C1[C@H]3[C@H](C(O[C@H](CC4=CC=C(O)C(O)=C4)C(OC)=O)=O)[C@@H]5C6=C7[C@@]2(O3)C(C(C(C)C)=CC7=CC=C6C(C)(C)CC5)=O\"\n",
    "meloyunnanineA_smiles = \"O[C@@]12[C@]3(C(OC)=O)[C@]4(C5=CC=CC=C5N2)[C@H]6N(CC4)CC=C[C@]6(C3)[C@H]1C\"\n",
    "mucroniferalA_smiles = \"O=C(OC)[C@@H]([C@H]1O2)[C@@H](C(O)=O)[C@H]2C3=C1C=CC4=C3OCO4\""
   ]
  },
  {
   "cell_type": "code",
   "execution_count": 4,
   "metadata": {},
   "outputs": [],
   "source": [
    "coconut = pd.read_pickle(folder + \"coconut_4classifier_less_classes.pkl\")\n",
    "frame = coconut"
   ]
  },
  {
   "cell_type": "code",
   "execution_count": 72,
   "metadata": {},
   "outputs": [],
   "source": [
    "MAP4 = MAP4Calculator(dimensions=1024)\n",
    "def calc_map4(smiles):\n",
    "    mol = Chem.MolFromSmiles(smiles)\n",
    "    smiles = Chem.MolToSmiles(mol, isomericSmiles=False)\n",
    "    mol = Chem.MolFromSmiles(smiles)\n",
    "    map4 = MAP4.calculate(mol)\n",
    "    return np.array(map4)\n",
    "\n",
    "def map4_kernel_SVM(a, b=None):\n",
    "    if b is None:\n",
    "        b=a\n",
    "    JS_all_pairs = np.zeros((len(a),len(b)))\n",
    "    for i,fp1 in enumerate(a):\n",
    "        for j,fp2 in enumerate(b):\n",
    "            JS_all_pairs[i,j] = np.float(np.count_nonzero(fp1 == fp2)) / np.float(len(fp1))\n",
    "    return JS_all_pairs\n",
    "\n",
    "def map4_kernel_NN(fp1, fp2):\n",
    "    return 1- np.float(np.count_nonzero(fp1 == fp2)) / np.float(len(fp1))\n",
    "\n",
    "\n",
    "def distance(a, b):\n",
    "    \"\"\"Estimates the Jaccard distance of two binary arrays based on their hashes.\n",
    "\n",
    "Arguments:\n",
    "  a {numpy.ndarray} -- An array containing hash values.\n",
    "  b {numpy.ndarray} -- An array containing hash values.\n",
    "\n",
    "Returns:\n",
    "  float -- The estimated Jaccard distance.\n",
    "\"\"\"\n",
    "\n",
    "    # The Jaccard distance of Minhashed values is estimated by\n",
    "    return 1.0 - np.float(np.count_nonzero(a == b)) / np.float(len(a))\n",
    "\n",
    "def find_map_seqNN(fp, dataframe = frame[frame.Set==\"training\"]):\n",
    "    best_dist = float(\"inf\")\n",
    "    dists = dataframe[\"MAP4\"].map(lambda fp2 : distance(fp,fp2))\n",
    "    NNi = np.argmin(dists)\n",
    "    best_dist = dists.iloc[NNi]\n",
    "    NN = dataframe[\"coconut_id\"].iloc[NNi]\n",
    "    return best_dist, NN"
   ]
  },
  {
   "cell_type": "code",
   "execution_count": 73,
   "metadata": {},
   "outputs": [],
   "source": [
    "SVM = joblib.load(folder + \"SVM-coconut_less_classes.pkl\")"
   ]
  },
  {
   "cell_type": "code",
   "execution_count": 112,
   "metadata": {},
   "outputs": [],
   "source": [
    "epicospirocins_map4_list = [calc_map4(smiles) for smiles in epicospirocins_smiles_list]\n",
    "penicimeroterpenoids_map4_list = [calc_map4(smiles) for smiles in penicimeroterpenoids_smiles_list]\n",
    "Rhizolutin_map4 = calc_map4(Rhizolutin_smiles)\n",
    "BosamycinA_map4 = calc_map4(BosamycinA_smiles)\n",
    "phakefustatin_map4 = calc_map4(phakefustatin_smiles)\n",
    "SI_map4_list = [calc_map4(smiles) for smiles in SI_smiles_list]\n",
    "hunzeylanine_map4 = calc_map4(hunzeylanineA_smiles)\n",
    "hyperfol_map4 = calc_map4(hyperfolB_smiles)\n",
    "pegaharmol_map4 = calc_map4(pegaharmolA_smiles)\n",
    "perovsfolin_map4 = calc_map4(perovsfolinA_smiles)\n",
    "meloyunnanine_map4 = calc_map4(meloyunnanineA_smiles)\n",
    "mucroniferal_map4 = calc_map4(mucroniferalA_smiles)\n",
    "\n",
    "epicospirocins_NN_dist_list = [find_map_seqNN(fp) for fp in epicospirocins_map4_list]\n",
    "penicimeroterpenoids_NN_dist_list = [find_map_seqNN(fp) for fp in penicimeroterpenoids_map4_list]\n",
    "Rhizolutin_NN_dist = find_map_seqNN(Rhizolutin_map4)\n",
    "BosamycinA_NN_dist = find_map_seqNN(BosamycinA_map4)\n",
    "phakefustatin_NN_dist = find_map_seqNN(phakefustatin_map4)\n",
    "SI_NN_dist_list = [find_map_seqNN(fp) for fp in SI_map4_list]\n",
    "hunzeylanine_NN_dist = find_map_seqNN(hunzeylanine_map4)\n",
    "hyperfol_NN_dist = find_map_seqNN(hyperfol_map4)\n",
    "pegaharmol_NN_dist = find_map_seqNN(pegaharmol_map4)\n",
    "perovsfolin_NN_dist = find_map_seqNN(perovsfolin_map4)\n",
    "meloyunnanine_NN_dist = find_map_seqNN(meloyunnanine_map4)\n",
    "mucroniferal_NN_dist = find_map_seqNN(mucroniferal_map4)"
   ]
  },
  {
   "cell_type": "code",
   "execution_count": 88,
   "metadata": {},
   "outputs": [
    {
     "data": {
      "text/plain": [
       "[(0.7607421875, 'CNP0378686'),\n",
       " (0.6201171875, 'CNP0378686'),\n",
       " (0.6748046875, 'CNP0299907'),\n",
       " (0.556640625, 'CNP0299907')]"
      ]
     },
     "execution_count": 88,
     "metadata": {},
     "output_type": "execute_result"
    }
   ],
   "source": [
    "epicospirocins_NN_dist_list"
   ]
  },
  {
   "cell_type": "code",
   "execution_count": 89,
   "metadata": {},
   "outputs": [
    {
     "data": {
      "text/plain": [
       "[(0.6083984375, 'CNP0145120'),\n",
       " (0.4365234375, 'CNP0145120'),\n",
       " (0.4873046875, 'CNP0184369')]"
      ]
     },
     "execution_count": 89,
     "metadata": {},
     "output_type": "execute_result"
    }
   ],
   "source": [
    "penicimeroterpenoids_NN_dist_list"
   ]
  },
  {
   "cell_type": "code",
   "execution_count": 90,
   "metadata": {},
   "outputs": [
    {
     "data": {
      "text/plain": [
       "(0.7998046875, 'CNP0120181')"
      ]
     },
     "execution_count": 90,
     "metadata": {},
     "output_type": "execute_result"
    }
   ],
   "source": [
    "Rhizolutin_NN_dist"
   ]
  },
  {
   "cell_type": "code",
   "execution_count": 91,
   "metadata": {},
   "outputs": [
    {
     "data": {
      "text/plain": [
       "(0.7978515625, 'CNP0426295')"
      ]
     },
     "execution_count": 91,
     "metadata": {},
     "output_type": "execute_result"
    }
   ],
   "source": [
    "BosamycinA_NN_dist"
   ]
  },
  {
   "cell_type": "code",
   "execution_count": 92,
   "metadata": {},
   "outputs": [
    {
     "data": {
      "text/plain": [
       "(0.7021484375, 'CNP0426614')"
      ]
     },
     "execution_count": 92,
     "metadata": {},
     "output_type": "execute_result"
    }
   ],
   "source": [
    "phakefustatin_NN_dist"
   ]
  },
  {
   "cell_type": "code",
   "execution_count": 93,
   "metadata": {},
   "outputs": [
    {
     "data": {
      "text/plain": [
       "[(0.279296875, 'CNP0167785'),\n",
       " (0.7060546875, 'CNP0085851'),\n",
       " (0.8154296875, 'CNP0299326'),\n",
       " (0.3271484375, 'CNP0211064'),\n",
       " (0.0, 'CNP0232612'),\n",
       " (0.501953125, 'CNP0206281'),\n",
       " (0.685546875, 'CNP0132365'),\n",
       " (0.7509765625, 'CNP0343194')]"
      ]
     },
     "execution_count": 93,
     "metadata": {},
     "output_type": "execute_result"
    }
   ],
   "source": [
    "SI_NN_dist_list"
   ]
  },
  {
   "cell_type": "code",
   "execution_count": 94,
   "metadata": {},
   "outputs": [
    {
     "data": {
      "text/plain": [
       "(0.806640625, 'CNP0270143')"
      ]
     },
     "execution_count": 94,
     "metadata": {},
     "output_type": "execute_result"
    }
   ],
   "source": [
    "hunzeylanine_NN_dist"
   ]
  },
  {
   "cell_type": "code",
   "execution_count": 95,
   "metadata": {},
   "outputs": [
    {
     "data": {
      "text/plain": [
       "(0.7470703125, 'CNP0167147')"
      ]
     },
     "execution_count": 95,
     "metadata": {},
     "output_type": "execute_result"
    }
   ],
   "source": [
    "hyperfol_NN_dist"
   ]
  },
  {
   "cell_type": "code",
   "execution_count": 96,
   "metadata": {},
   "outputs": [
    {
     "data": {
      "text/plain": [
       "(0.8818359375, 'CNP0181707')"
      ]
     },
     "execution_count": 96,
     "metadata": {},
     "output_type": "execute_result"
    }
   ],
   "source": [
    "pegaharmol_NN_dist"
   ]
  },
  {
   "cell_type": "code",
   "execution_count": 97,
   "metadata": {},
   "outputs": [
    {
     "data": {
      "text/plain": [
       "(0.830078125, 'CNP0254054')"
      ]
     },
     "execution_count": 97,
     "metadata": {},
     "output_type": "execute_result"
    }
   ],
   "source": [
    "perovsfolin_NN_dist"
   ]
  },
  {
   "cell_type": "code",
   "execution_count": 98,
   "metadata": {},
   "outputs": [
    {
     "data": {
      "text/plain": [
       "(0.548828125, 'CNP0229684')"
      ]
     },
     "execution_count": 98,
     "metadata": {},
     "output_type": "execute_result"
    }
   ],
   "source": [
    "meloyunnanine_NN_dist"
   ]
  },
  {
   "cell_type": "code",
   "execution_count": 113,
   "metadata": {},
   "outputs": [
    {
     "data": {
      "text/plain": [
       "(0.80078125, 'CNP0345199')"
      ]
     },
     "execution_count": 113,
     "metadata": {},
     "output_type": "execute_result"
    }
   ],
   "source": [
    "mucroniferal_NN_dist"
   ]
  },
  {
   "cell_type": "code",
   "execution_count": 114,
   "metadata": {},
   "outputs": [],
   "source": [
    "pred_epicospirocins_SVM = SVM.predict(epicospirocins_map4_list)\n",
    "pred_penicimeroterpenoids_SVM = SVM.predict(penicimeroterpenoids_map4_list)\n",
    "pred_Rhizolutin_SVM = SVM.predict([Rhizolutin_map4])\n",
    "pred_BosamycinA_SVM = SVM.predict([BosamycinA_map4])\n",
    "pred_phakefustatin_SVM = SVM.predict([phakefustatin_map4])\n",
    "pred_SI_SVM = SVM.predict(SI_map4_list)\n",
    "pred_hunzeylanine_SVM = SVM.predict([hunzeylanine_map4])\n",
    "pred_hyperfol_SVM= SVM.predict([hyperfol_map4])\n",
    "pred_pegaharmol_SVM = SVM.predict([pegaharmol_map4])\n",
    "pred_perovsfolin_SVM = SVM.predict([perovsfolin_map4])\n",
    "pred_meloyunnanine_SVM = SVM.predict([meloyunnanine_map4])\n",
    "pred_mucroniferal_SVM = SVM.predict([mucroniferal_map4])"
   ]
  },
  {
   "cell_type": "code",
   "execution_count": 100,
   "metadata": {},
   "outputs": [
    {
     "name": "stdout",
     "output_type": "stream",
     "text": [
      "[1. 1. 1. 1.]\n"
     ]
    }
   ],
   "source": [
    "print(pred_epicospirocins_SVM) # predicted fungal origin"
   ]
  },
  {
   "cell_type": "code",
   "execution_count": 101,
   "metadata": {},
   "outputs": [
    {
     "data": {
      "text/plain": [
       "array([0.])"
      ]
     },
     "execution_count": 101,
     "metadata": {},
     "output_type": "execute_result"
    }
   ],
   "source": [
    "pred_Rhizolutin_SVM"
   ]
  },
  {
   "cell_type": "code",
   "execution_count": 102,
   "metadata": {},
   "outputs": [
    {
     "name": "stdout",
     "output_type": "stream",
     "text": [
      "[1. 1. 1.]\n"
     ]
    }
   ],
   "source": [
    "print(pred_penicimeroterpenoids_SVM) # predicted fungal origin"
   ]
  },
  {
   "cell_type": "code",
   "execution_count": 103,
   "metadata": {},
   "outputs": [
    {
     "name": "stdout",
     "output_type": "stream",
     "text": [
      "[2.]\n"
     ]
    }
   ],
   "source": [
    "print(pred_BosamycinA_SVM)"
   ]
  },
  {
   "cell_type": "code",
   "execution_count": 104,
   "metadata": {},
   "outputs": [
    {
     "name": "stdout",
     "output_type": "stream",
     "text": [
      "[2.]\n"
     ]
    }
   ],
   "source": [
    "print(pred_phakefustatin_SVM) # predicted bacterial origin"
   ]
  },
  {
   "cell_type": "code",
   "execution_count": 105,
   "metadata": {},
   "outputs": [
    {
     "name": "stdout",
     "output_type": "stream",
     "text": [
      "[0. 1. 2. 0. 0. 0. 0. 2.]\n"
     ]
    }
   ],
   "source": [
    "print(pred_SI_SVM)"
   ]
  },
  {
   "cell_type": "code",
   "execution_count": 106,
   "metadata": {},
   "outputs": [
    {
     "data": {
      "text/plain": [
       "array([0.])"
      ]
     },
     "execution_count": 106,
     "metadata": {},
     "output_type": "execute_result"
    }
   ],
   "source": [
    "pred_hunzeylanine_SVM"
   ]
  },
  {
   "cell_type": "code",
   "execution_count": 107,
   "metadata": {},
   "outputs": [
    {
     "data": {
      "text/plain": [
       "array([0.])"
      ]
     },
     "execution_count": 107,
     "metadata": {},
     "output_type": "execute_result"
    }
   ],
   "source": [
    "pred_hyperfol_SVM"
   ]
  },
  {
   "cell_type": "code",
   "execution_count": 108,
   "metadata": {},
   "outputs": [
    {
     "data": {
      "text/plain": [
       "array([0.])"
      ]
     },
     "execution_count": 108,
     "metadata": {},
     "output_type": "execute_result"
    }
   ],
   "source": [
    "pred_pegaharmol_SVM"
   ]
  },
  {
   "cell_type": "code",
   "execution_count": 109,
   "metadata": {},
   "outputs": [
    {
     "data": {
      "text/plain": [
       "array([0.])"
      ]
     },
     "execution_count": 109,
     "metadata": {},
     "output_type": "execute_result"
    }
   ],
   "source": [
    "pred_perovsfolin_SVM"
   ]
  },
  {
   "cell_type": "code",
   "execution_count": 110,
   "metadata": {},
   "outputs": [
    {
     "data": {
      "text/plain": [
       "array([0.])"
      ]
     },
     "execution_count": 110,
     "metadata": {},
     "output_type": "execute_result"
    }
   ],
   "source": [
    "pred_meloyunnanine_SVM"
   ]
  },
  {
   "cell_type": "code",
   "execution_count": 115,
   "metadata": {},
   "outputs": [
    {
     "data": {
      "text/plain": [
       "array([0.])"
      ]
     },
     "execution_count": 115,
     "metadata": {},
     "output_type": "execute_result"
    }
   ],
   "source": [
    "pred_mucroniferal_SVM"
   ]
  },
  {
   "cell_type": "markdown",
   "metadata": {},
   "source": [
    "## Farnesol is in the training set!\n",
    "\n",
    "### 0 = plant, 1 = fungi, 2 = bacteria \n",
    "salidroside (plant) 0, prostacyclin (animal) 1, serricorole (animal) 2, cholesterol (animal) 0,\n",
    "farnesol (plant) 0, menthol (plant) 0, benzaldehyde (?) 0, conotoxin (animal) 2"
   ]
  },
  {
   "cell_type": "code",
   "execution_count": null,
   "metadata": {},
   "outputs": [],
   "source": []
  }
 ],
 "metadata": {
  "kernelspec": {
   "display_name": "Python 3",
   "language": "python",
   "name": "python3"
  },
  "language_info": {
   "codemirror_mode": {
    "name": "ipython",
    "version": 3
   },
   "file_extension": ".py",
   "mimetype": "text/x-python",
   "name": "python",
   "nbconvert_exporter": "python",
   "pygments_lexer": "ipython3",
   "version": "3.6.10"
  }
 },
 "nbformat": 4,
 "nbformat_minor": 4
}
