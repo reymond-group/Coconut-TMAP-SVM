{
 "cells": [
  {
   "cell_type": "code",
   "execution_count": 1,
   "metadata": {},
   "outputs": [
    {
     "name": "stdout",
     "output_type": "stream",
     "text": [
      "INFO: Pandarallel will run on 8 workers.\n",
      "INFO: Pandarallel will use Memory file system to transfer data between the main process and workers.\n"
     ]
    }
   ],
   "source": [
    "import pandas as pd\n",
    "from matplotlib.colors import ListedColormap\n",
    "from faerun import Faerun\n",
    "from rdkit import Chem \n",
    "from rdkit.Chem import Lipinski, Descriptors, rdMolDescriptors, AllChem, PandasTools, rdchem\n",
    "from pandarallel import pandarallel\n",
    "import numpy as np\n",
    "pandarallel.initialize(progress_bar=False)\n",
    "import tmap as tm\n",
    "from map4 import MAP4Calculator\n",
    "import os\n",
    "import seaborn as sns\n",
    "import joblib\n",
    "import matplotlib.pyplot as plt\n",
    "from rdkit.Chem.AtomPairs import Pairs\n",
    "folder = \"/data/coconut/\""
   ]
  },
  {
   "cell_type": "code",
   "execution_count": 2,
   "metadata": {},
   "outputs": [],
   "source": [
    "coconut = pd.read_pickle(folder + \"coconut_prop.pkl\")"
   ]
  },
  {
   "cell_type": "code",
   "execution_count": 3,
   "metadata": {},
   "outputs": [
    {
     "data": {
      "text/plain": [
       "array([ 0.,  3., nan,  1.,  2.])"
      ]
     },
     "execution_count": 3,
     "metadata": {},
     "output_type": "execute_result"
    }
   ],
   "source": [
    "coconut.origin.unique()"
   ]
  },
  {
   "cell_type": "code",
   "execution_count": 4,
   "metadata": {},
   "outputs": [],
   "source": [
    "extra = coconut.query(\"simple_tax=='other'\").copy()"
   ]
  },
  {
   "cell_type": "code",
   "execution_count": 5,
   "metadata": {},
   "outputs": [
    {
     "name": "stderr",
     "output_type": "stream",
     "text": [
      "/home/alice/miniconda3/envs/aipep/lib/python3.6/site-packages/pandas/core/missing.py:47: FutureWarning: elementwise comparison failed; returning scalar instead, but in the future will perform elementwise comparison\n",
      "  mask = arr == x\n",
      "/home/alice/miniconda3/envs/aipep/lib/python3.6/site-packages/pandas/core/missing.py:58: FutureWarning: elementwise comparison failed; returning scalar instead, but in the future will perform elementwise comparison\n",
      "  mask |= arr == x\n"
     ]
    }
   ],
   "source": [
    "coconut = coconut.query(\"origin == 0 or origin == 1 or origin == 2\").copy()\n",
    "coconut.replace([\"NaN\", 'NaT'], np.nan, inplace = True)\n",
    "coconut = coconut.dropna()"
   ]
  },
  {
   "cell_type": "code",
   "execution_count": 6,
   "metadata": {},
   "outputs": [
    {
     "data": {
      "text/plain": [
       "60171"
      ]
     },
     "execution_count": 6,
     "metadata": {},
     "output_type": "execute_result"
    }
   ],
   "source": [
    "len(coconut)"
   ]
  },
  {
   "cell_type": "code",
   "execution_count": 7,
   "metadata": {},
   "outputs": [
    {
     "data": {
      "text/plain": [
       "2899.245115524003"
      ]
     },
     "execution_count": 7,
     "metadata": {},
     "output_type": "execute_result"
    }
   ],
   "source": [
    "np.max(np.array(coconut.MW.to_list()))"
   ]
  },
  {
   "cell_type": "code",
   "execution_count": 8,
   "metadata": {},
   "outputs": [
    {
     "data": {
      "text/plain": [
       "80.037448128"
      ]
     },
     "execution_count": 8,
     "metadata": {},
     "output_type": "execute_result"
    }
   ],
   "source": [
    "np.min(np.array(coconut.MW.to_list()))"
   ]
  },
  {
   "cell_type": "code",
   "execution_count": 9,
   "metadata": {},
   "outputs": [],
   "source": [
    "coconut[\"LOW_fcsp3\"] = coconut.fcsp3.map(lambda x: x<=0.2)\n",
    "coconut[\"MED_fcsp3\"] = coconut.fcsp3.map(lambda x: x<0.8)\n",
    "coconut[\"HIGH_fcsp3\"] = coconut.fcsp3.map(lambda x: x>=0.8)\n",
    "coconut[\"LOW_mw\"] = coconut.MW.map(lambda x: x<=300)\n",
    "coconut[\"MED_mw\"] = coconut.MW.map(lambda x: x<800)\n",
    "coconut[\"HIGH_mw\"] = coconut.MW.map(lambda x: x>=800)"
   ]
  },
  {
   "cell_type": "code",
   "execution_count": 10,
   "metadata": {},
   "outputs": [
    {
     "data": {
      "text/plain": [
       "1356       -1.143500000000003\n",
       "2262       -4.003099999999998\n",
       "2281       0.5711000000000008\n",
       "2292       -4.090200000000002\n",
       "2298        3.803999999999998\n",
       "                 ...         \n",
       "377234    -13.033400000000007\n",
       "379207                -4.0466\n",
       "381009     -2.045899999999998\n",
       "385490    -4.9348000000000045\n",
       "401521     1.3658999999999992\n",
       "Name: alogp, Length: 60171, dtype: object"
      ]
     },
     "execution_count": 10,
     "metadata": {},
     "output_type": "execute_result"
    }
   ],
   "source": [
    "coconut.alogp"
   ]
  },
  {
   "cell_type": "code",
   "execution_count": 11,
   "metadata": {},
   "outputs": [],
   "source": [
    "coconut[\"LOW_alogp\"] = coconut.alogp.map(lambda x: float(x)<=-2)\n",
    "coconut[\"MED_alogp\"] = coconut.alogp.map(lambda x: float(x)<8)\n",
    "coconut[\"HIGH_alogp\"] = coconut.alogp.map(lambda x: float(x)>=8)"
   ]
  },
  {
   "cell_type": "code",
   "execution_count": 12,
   "metadata": {},
   "outputs": [
    {
     "name": "stdout",
     "output_type": "stream",
     "text": [
      "LOW_alogp 6674\n",
      "LOW_alogp_plants 4855\n",
      "LOW_alogp_fungi 373\n",
      "LOW_alogp_bacteria 1446\n"
     ]
    }
   ],
   "source": [
    "LOW_alogp = len(coconut.query(\"LOW_alogp==True\"))\n",
    "print(\"LOW_alogp\", LOW_alogp)\n",
    "LOW_fcsp3_plants = len(coconut.query(\"LOW_alogp==True and origin==0\"))\n",
    "print(\"LOW_alogp_plants\", LOW_fcsp3_plants)\n",
    "LOW_alogp_fungi = len(coconut.query(\"LOW_alogp==True and origin==1\"))\n",
    "print(\"LOW_alogp_fungi\", LOW_alogp_fungi)\n",
    "LOW_alogp_bacteria = len(coconut.query(\"LOW_alogp==True and origin==2\"))\n",
    "print(\"LOW_alogp_bacteria\", LOW_alogp_bacteria)"
   ]
  },
  {
   "cell_type": "code",
   "execution_count": 13,
   "metadata": {},
   "outputs": [
    {
     "name": "stdout",
     "output_type": "stream",
     "text": [
      "MED_alogp 52030\n",
      "MED_alogp_plant 28315\n",
      "MED_alogp_fungi 15000\n",
      "MED_alogp_bacteria 8906\n"
     ]
    }
   ],
   "source": [
    "MED_alogp = len(coconut.query(\"MED_alogp==True and LOW_fcsp3==False\"))\n",
    "print(\"MED_alogp\", MED_alogp)\n",
    "MED_alogp_plant = len(coconut.query(\"MED_alogp==True and LOW_alogp==False and origin==0\"))\n",
    "print(\"MED_alogp_plant\", MED_alogp_plant)\n",
    "MED_alogp_fungi = len(coconut.query(\"MED_alogp==True and LOW_alogp==False and origin==1\"))\n",
    "print(\"MED_alogp_fungi\", MED_alogp_fungi)\n",
    "MED_alogp_bacteria = len(coconut.query(\"MED_alogp==True and LOW_alogp==False and origin==2\"))\n",
    "print(\"MED_alogp_bacteria\", MED_alogp_bacteria)"
   ]
  },
  {
   "cell_type": "code",
   "execution_count": 14,
   "metadata": {},
   "outputs": [
    {
     "name": "stdout",
     "output_type": "stream",
     "text": [
      "HIGH_alogp 1276\n",
      "HIGH_alogp_plants 602\n",
      "HIGH_alogp_fungi 275\n",
      "HIGH_alogp_bacteria 399\n"
     ]
    }
   ],
   "source": [
    "HIGH_alogp = len(coconut.query(\"HIGH_alogp==True\"))\n",
    "print(\"HIGH_alogp\", HIGH_alogp)\n",
    "HIGH_alogp_plants = len(coconut.query(\"HIGH_alogp==True and origin==0\"))\n",
    "print(\"HIGH_alogp_plants\", HIGH_alogp_plants)\n",
    "HIGH_alogp_fungi = len(coconut.query(\"HIGH_alogp==True and origin==1\"))\n",
    "print(\"HIGH_alogp_fungi\", HIGH_alogp_fungi)\n",
    "HIGH_alogp_bacteria = len(coconut.query(\"HIGH_alogp==True and origin==2\"))\n",
    "print(\"HIGH_alogp_bacteria\", HIGH_alogp_bacteria)"
   ]
  },
  {
   "cell_type": "code",
   "execution_count": 15,
   "metadata": {},
   "outputs": [
    {
     "name": "stdout",
     "output_type": "stream",
     "text": [
      "LOW_fcsp3 6866\n",
      "LOW_fcsp3_plants 4213\n",
      "LOW_fcsp3_fungi 1580\n",
      "LOW_fcsp3_bacteria 1073\n"
     ]
    }
   ],
   "source": [
    "LOW_fcsp3 = len(coconut.query(\"LOW_fcsp3==True\"))\n",
    "print(\"LOW_fcsp3\", LOW_fcsp3)\n",
    "LOW_fcsp3_plants = len(coconut.query(\"LOW_fcsp3==True and origin==0\"))\n",
    "print(\"LOW_fcsp3_plants\", LOW_fcsp3_plants)\n",
    "LOW_fcsp3_fungi = len(coconut.query(\"LOW_fcsp3==True and origin==1\"))\n",
    "print(\"LOW_fcsp3_fungi\", LOW_fcsp3_fungi)\n",
    "LOW_fcsp3_bacteria = len(coconut.query(\"LOW_fcsp3==True and origin==2\"))\n",
    "print(\"LOW_fcsp3_bacteria\", LOW_fcsp3_bacteria)"
   ]
  },
  {
   "cell_type": "code",
   "execution_count": 16,
   "metadata": {},
   "outputs": [
    {
     "name": "stdout",
     "output_type": "stream",
     "text": [
      "MED_fcsp3 41352\n",
      "MED_fcsp3_plant 22032\n",
      "MED_fcsp3_fungi 11334\n",
      "MED_fcsp3_bacteria 7986\n"
     ]
    }
   ],
   "source": [
    "MED_fcsp3 = len(coconut.query(\"MED_fcsp3==True and LOW_fcsp3==False\"))\n",
    "print(\"MED_fcsp3\", MED_fcsp3)\n",
    "MED_fcsp3_plant = len(coconut.query(\"MED_fcsp3==True and LOW_fcsp3==False and origin==0\"))\n",
    "print(\"MED_fcsp3_plant\", MED_fcsp3_plant)\n",
    "MED_fcsp3_fungi = len(coconut.query(\"MED_fcsp3==True and LOW_fcsp3==False and origin==1\"))\n",
    "print(\"MED_fcsp3_fungi\", MED_fcsp3_fungi)\n",
    "MED_fcsp3_bacteria = len(coconut.query(\"MED_fcsp3==True and LOW_fcsp3==False and origin==2\"))\n",
    "print(\"MED_fcsp3_bacteria\", MED_fcsp3_bacteria)"
   ]
  },
  {
   "cell_type": "code",
   "execution_count": 17,
   "metadata": {},
   "outputs": [
    {
     "name": "stdout",
     "output_type": "stream",
     "text": [
      "HIGH_fcsp3 11953\n",
      "HIGH_fcsp3_plants 7527\n",
      "HIGH_fcsp3_fungi 2734\n",
      "HIGH_fcsp3_bacteria 1692\n"
     ]
    }
   ],
   "source": [
    "HIGH_fcsp3 = len(coconut.query(\"HIGH_fcsp3==True\"))\n",
    "print(\"HIGH_fcsp3\", HIGH_fcsp3)\n",
    "HIGH_fcsp3_plants = len(coconut.query(\"HIGH_fcsp3==True and origin==0\"))\n",
    "print(\"HIGH_fcsp3_plants\", HIGH_fcsp3_plants)\n",
    "HIGH_fcsp3_fungi = len(coconut.query(\"HIGH_fcsp3==True and origin==1\"))\n",
    "print(\"HIGH_fcsp3_fungi\", HIGH_fcsp3_fungi)\n",
    "HIGH_fcsp3_bacteria = len(coconut.query(\"HIGH_fcsp3==True and origin==2\"))\n",
    "print(\"HIGH_fcsp3_bacteria\", HIGH_fcsp3_bacteria)"
   ]
  },
  {
   "cell_type": "code",
   "execution_count": 18,
   "metadata": {},
   "outputs": [
    {
     "data": {
      "text/plain": [
       "60171"
      ]
     },
     "execution_count": 18,
     "metadata": {},
     "output_type": "execute_result"
    }
   ],
   "source": [
    "HIGH_fcsp3+MED_fcsp3+LOW_fcsp3"
   ]
  },
  {
   "cell_type": "code",
   "execution_count": 19,
   "metadata": {},
   "outputs": [
    {
     "name": "stdout",
     "output_type": "stream",
     "text": [
      "LOW_mw 14228\n",
      "LOW_mw_plant 7072\n",
      "LOW_mw_fungi 4919\n",
      "LOW_mw_bacteria 2237\n"
     ]
    }
   ],
   "source": [
    "LOW_mw= len(coconut.query(\"LOW_mw==True\"))\n",
    "print(\"LOW_mw\", LOW_mw)\n",
    "LOW_mw_plant = len(coconut.query(\"LOW_mw==True and origin ==0\"))\n",
    "print(\"LOW_mw_plant\", LOW_mw_plant)\n",
    "LOW_mw_fungi = len(coconut.query(\"LOW_mw==True and origin ==1\"))\n",
    "print(\"LOW_mw_fungi\", LOW_mw_fungi)\n",
    "LOW_mw_bacteria = len(coconut.query(\"LOW_mw==True and origin ==2\"))\n",
    "print(\"LOW_mw_bacteria\", LOW_mw_bacteria)"
   ]
  },
  {
   "cell_type": "code",
   "execution_count": 20,
   "metadata": {},
   "outputs": [
    {
     "name": "stdout",
     "output_type": "stream",
     "text": [
      "HIGH_mw 5688\n",
      "HIGH_mw_plant 2622\n",
      "HIGH_mw_fungi 618\n",
      "HIGH_mw_bacteria 2448\n"
     ]
    }
   ],
   "source": [
    "HIGH_mw=len(coconut.query(\"HIGH_mw==True\"))\n",
    "print(\"HIGH_mw\", HIGH_mw)\n",
    "HIGH_mw_plant=len(coconut.query(\"HIGH_mw==True and origin==0\"))\n",
    "print(\"HIGH_mw_plant\", HIGH_mw_plant)\n",
    "HIGH_mw_fungi=len(coconut.query(\"HIGH_mw==True and origin==1\"))\n",
    "print(\"HIGH_mw_fungi\", HIGH_mw_fungi)\n",
    "HIGH_mw_bacteria=len(coconut.query(\"HIGH_mw==True and origin==2\"))\n",
    "print(\"HIGH_mw_bacteria\", HIGH_mw_bacteria)"
   ]
  },
  {
   "cell_type": "code",
   "execution_count": 21,
   "metadata": {},
   "outputs": [
    {
     "data": {
      "text/plain": [
       "5688"
      ]
     },
     "execution_count": 21,
     "metadata": {},
     "output_type": "execute_result"
    }
   ],
   "source": [
    "HIGH_mw_bacteria + HIGH_mw_fungi+ HIGH_mw_plant"
   ]
  },
  {
   "cell_type": "code",
   "execution_count": 22,
   "metadata": {},
   "outputs": [
    {
     "name": "stdout",
     "output_type": "stream",
     "text": [
      "MED_mw 40255\n",
      "MED_mw_plants 24078\n",
      "MED_mw_fungi 10111\n",
      "MED_mw_bacteria 6066\n"
     ]
    }
   ],
   "source": [
    "MED_mw=len(coconut.query(\"MED_mw==True and LOW_mw==False\"))\n",
    "print(\"MED_mw\", MED_mw)\n",
    "MED_mw_plants=len(coconut.query(\"MED_mw==True and LOW_mw==False and origin==0\"))\n",
    "print(\"MED_mw_plants\", MED_mw_plants)\n",
    "MED_mw_fungi=len(coconut.query(\"MED_mw==True and LOW_mw==False and origin ==1\"))\n",
    "print(\"MED_mw_fungi\", MED_mw_fungi)\n",
    "MED_mw_bacteria=len(coconut.query(\"MED_mw==True and LOW_mw==False and origin==2\"))\n",
    "print(\"MED_mw_bacteria\", MED_mw_bacteria)"
   ]
  },
  {
   "cell_type": "code",
   "execution_count": 23,
   "metadata": {},
   "outputs": [
    {
     "data": {
      "text/plain": [
       "60171"
      ]
     },
     "execution_count": 23,
     "metadata": {},
     "output_type": "execute_result"
    }
   ],
   "source": [
    "MED_mw+HIGH_mw+LOW_mw"
   ]
  },
  {
   "cell_type": "code",
   "execution_count": 24,
   "metadata": {},
   "outputs": [
    {
     "data": {
      "text/plain": [
       "60171"
      ]
     },
     "execution_count": 24,
     "metadata": {},
     "output_type": "execute_result"
    }
   ],
   "source": [
    "len(coconut)"
   ]
  },
  {
   "cell_type": "code",
   "execution_count": 25,
   "metadata": {},
   "outputs": [
    {
     "name": "stdout",
     "output_type": "stream",
     "text": [
      "peptide 2923\n",
      "peptide_plant 194\n",
      "peptide_fungi 676\n",
      "peptide_bacteria 2053\n"
     ]
    }
   ],
   "source": [
    "peptide=len(coconut.query(\"isPeptide==True\"))\n",
    "print(\"peptide\", peptide)\n",
    "peptide_plant=len(coconut.query(\"isPeptide==True and origin==0\"))\n",
    "print(\"peptide_plant\", peptide_plant)\n",
    "peptide_fungi=len(coconut.query(\"isPeptide==True and origin==1\"))\n",
    "print(\"peptide_fungi\", peptide_fungi)\n",
    "peptide_bacteria=len(coconut.query(\"isPeptide==True and origin==2\"))\n",
    "print(\"peptide_bacteria\", peptide_bacteria)"
   ]
  },
  {
   "cell_type": "code",
   "execution_count": 26,
   "metadata": {},
   "outputs": [
    {
     "name": "stdout",
     "output_type": "stream",
     "text": [
      "sugar 10850\n",
      "sugar_plants 8260\n",
      "sugar_fungi 797\n",
      "sugar_bacteria 1793\n"
     ]
    }
   ],
   "source": [
    "sugar=len(coconut.query(\"hasSugar==True\"))\n",
    "print(\"sugar\", sugar)\n",
    "sugar_plants=len(coconut.query(\"hasSugar==True and origin ==0\"))\n",
    "print(\"sugar_plants\", sugar_plants)\n",
    "sugar_fungi=len(coconut.query(\"hasSugar==True and origin ==1\"))\n",
    "print(\"sugar_fungi\", sugar_fungi)\n",
    "sugar_bacteria=len(coconut.query(\"hasSugar==True and origin ==2\"))\n",
    "print(\"sugar_bacteria\", sugar_bacteria)"
   ]
  },
  {
   "cell_type": "code",
   "execution_count": 27,
   "metadata": {},
   "outputs": [
    {
     "name": "stdout",
     "output_type": "stream",
     "text": [
      "plant 33772\n",
      "fungi 15648\n",
      "bacteria 10751\n"
     ]
    }
   ],
   "source": [
    "plant = len(coconut.query(\"origin==0\"))\n",
    "print(\"plant\", plant)\n",
    "fungi = len(coconut.query(\"origin==1\"))\n",
    "print(\"fungi\", fungi)\n",
    "bacteria = len(coconut.query(\"origin==2\"))\n",
    "print(\"bacteria\", bacteria)"
   ]
  },
  {
   "cell_type": "code",
   "execution_count": 28,
   "metadata": {},
   "outputs": [],
   "source": [
    "SVM = joblib.load(folder + f\"MAP4-SVM-coconut.all.pkl\")"
   ]
  },
  {
   "cell_type": "code",
   "execution_count": 29,
   "metadata": {},
   "outputs": [],
   "source": [
    "MAP4 = MAP4Calculator(dimensions=1024)\n",
    "def calc_map4(smiles):\n",
    "    mol = Chem.MolFromSmiles(smiles)\n",
    "    smiles = Chem.MolToSmiles(mol, isomericSmiles=False)\n",
    "    mol = Chem.MolFromSmiles(smiles)\n",
    "    map4 = MAP4.calculate(mol)\n",
    "    return np.array(map4)\n",
    "\n",
    "def map4_kernel_SVM(a, b=None):\n",
    "    if b is None:\n",
    "        b=a\n",
    "    JS_all_pairs = np.zeros((len(a),len(b)))\n",
    "    for i,fp1 in enumerate(a):\n",
    "        for j,fp2 in enumerate(b):\n",
    "            JS_all_pairs[i,j] = np.float(np.count_nonzero(fp1 == fp2)) / np.float(len(fp1))\n",
    "    return JS_all_pairs"
   ]
  },
  {
   "cell_type": "code",
   "execution_count": 30,
   "metadata": {},
   "outputs": [],
   "source": [
    "extra[\"map4\"] = extra.SMILES.map(calc_map4)"
   ]
  },
  {
   "cell_type": "code",
   "execution_count": null,
   "metadata": {},
   "outputs": [],
   "source": [
    "extra[\"prediction\"] = extra.map4.map(lambda x : SVM.predict_proba([x]))"
   ]
  },
  {
   "cell_type": "code",
   "execution_count": null,
   "metadata": {},
   "outputs": [],
   "source": [
    "extra[\"prediction_\"] = extra.map4.map(lambda x : SVM.predict([x]))"
   ]
  },
  {
   "cell_type": "code",
   "execution_count": null,
   "metadata": {},
   "outputs": [],
   "source": [
    "def clean_pred(pred_):\n",
    "    dict = {0:\"plants\", 1:\"fungi\", 2:\"bacteria\"}\n",
    "    return dict[pred_[0]]"
   ]
  },
  {
   "cell_type": "code",
   "execution_count": null,
   "metadata": {},
   "outputs": [],
   "source": [
    "extra[\"predicted_organism\"] = extra.prediction_.map(clean_pred)"
   ]
  },
  {
   "cell_type": "code",
   "execution_count": null,
   "metadata": {},
   "outputs": [],
   "source": [
    "extra_=extra[[\"coconut_id\", \"textTaxa\", \"SMILES\", 'citationDOI', 'name', 'synonyms']].copy()\n",
    "PandasTools.AddMoleculeColumnToFrame(extra_, \"SMILES\", \"molecule\", includeFingerprints=False)\n",
    "PandasTools.SaveXlsxFromFrame(extra_, \"other_taxa_with_prediction.xlsx\", \"molecule\")"
   ]
  },
  {
   "cell_type": "code",
   "execution_count": 36,
   "metadata": {},
   "outputs": [],
   "source": [
    "extra[\"LOW_fcsp3\"] = extra.fcsp3.map(lambda x: x<=0.2)\n",
    "extra[\"MED_fcsp3\"] = extra.fcsp3.map(lambda x: x<0.8)\n",
    "extra[\"HIGH_fcsp3\"] = extra.fcsp3.map(lambda x: x>=0.8)\n",
    "extra[\"LOW_mw\"] = extra.MW.map(lambda x: x<=300)\n",
    "extra[\"MED_mw\"] = extra.MW.map(lambda x: x<800)\n",
    "extra[\"HIGH_mw\"] = extra.MW.map(lambda x: x>=800)"
   ]
  },
  {
   "cell_type": "code",
   "execution_count": 42,
   "metadata": {},
   "outputs": [
    {
     "data": {
      "text/plain": [
       "430"
      ]
     },
     "execution_count": 42,
     "metadata": {},
     "output_type": "execute_result"
    }
   ],
   "source": [
    "len(extra.query(\"predicted_organism == 'bacteria'\"))"
   ]
  },
  {
   "cell_type": "code",
   "execution_count": 46,
   "metadata": {},
   "outputs": [
    {
     "name": "stdout",
     "output_type": "stream",
     "text": [
      "LOW_fcsp3 237\n",
      "LOW_fcsp3_plants 164\n",
      "LOW_fcsp3_fungi 25\n",
      "LOW_fcsp3_bacteria 48\n",
      "******\n",
      "MED_fcsp3 2267\n",
      "MED_fcsp3_plant 1714\n",
      "MED_fcsp3_fungi 242\n",
      "MED_fcsp3_bacteria 311\n",
      "******\n",
      "HIGH_fcsp3 860\n",
      "HIGH_fcsp3_plants 663\n",
      "HIGH_fcsp3_fungi 126\n",
      "HIGH_fcsp3_bacteria 71\n",
      "******\n",
      "LOW_mw 590\n",
      "LOW_mw_plant 408\n",
      "LOW_mw_fungi 104\n",
      "LOW_mw_bacteria 78\n",
      "590\n",
      "******\n",
      "HIGH_mw 333\n",
      "HIGH_mw_plant 191\n",
      "HIGH_mw_fungi 25\n",
      "HIGH_mw_bacteria 117\n",
      "333\n",
      "******\n",
      "MED_mw 2441\n",
      "MED_mw_plants 1942\n",
      "MED_mw_fungi 264\n",
      "MED_mw_bacteria 235\n",
      "2441\n",
      "******\n",
      "MED_mw 2441\n",
      "MED_mw_plants 1942\n",
      "MED_mw_fungi 264\n",
      "MED_mw_bacteria 235\n",
      "2441\n",
      "******\n",
      "peptide 130\n",
      "peptide_plant 12\n",
      "peptide_fungi 17\n",
      "peptide_bacteria 101\n",
      "******\n",
      "sugar 462\n",
      "sugar_plants 0\n",
      "sugar_fungi 38\n",
      "sugar_bacteria 52\n",
      "******\n",
      "plant 2541\n",
      "fungi 393\n",
      "bacteria 430\n",
      "******\n"
     ]
    }
   ],
   "source": [
    "LOW_fcsp3 = len(extra.query(\"LOW_fcsp3==True\"))\n",
    "print(\"LOW_fcsp3\", LOW_fcsp3)\n",
    "LOW_fcsp3_plants = len(extra.query(\"LOW_fcsp3==True and predicted_organism == 'plants'\"))\n",
    "print(\"LOW_fcsp3_plants\", LOW_fcsp3_plants)\n",
    "LOW_fcsp3_fungi = len(extra.query(\"LOW_fcsp3==True and predicted_organism == 'fungi'\"))\n",
    "print(\"LOW_fcsp3_fungi\", LOW_fcsp3_fungi)\n",
    "LOW_fcsp3_bacteria = len(extra.query(\"LOW_fcsp3==True and predicted_organism == 'bacteria'\"))\n",
    "print(\"LOW_fcsp3_bacteria\", LOW_fcsp3_bacteria)\n",
    "print(\"******\")\n",
    "\n",
    "MED_fcsp3 = len(extra.query(\"MED_fcsp3==True and LOW_fcsp3==False\"))\n",
    "print(\"MED_fcsp3\", MED_fcsp3)\n",
    "MED_fcsp3_plant = len(extra.query(\"MED_fcsp3==True and LOW_fcsp3==False and predicted_organism == 'plants'\"))\n",
    "print(\"MED_fcsp3_plant\", MED_fcsp3_plant)\n",
    "MED_fcsp3_fungi = len(extra.query(\"MED_fcsp3==True and LOW_fcsp3==False and predicted_organism == 'fungi'\"))\n",
    "print(\"MED_fcsp3_fungi\", MED_fcsp3_fungi)\n",
    "MED_fcsp3_bacteria = len(extra.query(\"MED_fcsp3==True and LOW_fcsp3==False and predicted_organism == 'bacteria'\"))\n",
    "print(\"MED_fcsp3_bacteria\", MED_fcsp3_bacteria)\n",
    "print(\"******\")\n",
    "\n",
    "HIGH_fcsp3 = len(extra.query(\"HIGH_fcsp3==True\"))\n",
    "print(\"HIGH_fcsp3\", HIGH_fcsp3)\n",
    "HIGH_fcsp3_plants = len(extra.query(\"HIGH_fcsp3==True and predicted_organism == 'plants'\"))\n",
    "print(\"HIGH_fcsp3_plants\", HIGH_fcsp3_plants)\n",
    "HIGH_fcsp3_fungi = len(extra.query(\"HIGH_fcsp3==True and predicted_organism == 'fungi'\"))\n",
    "print(\"HIGH_fcsp3_fungi\", HIGH_fcsp3_fungi)\n",
    "HIGH_fcsp3_bacteria = len(extra.query(\"HIGH_fcsp3==True and predicted_organism == 'bacteria'\"))\n",
    "print(\"HIGH_fcsp3_bacteria\", HIGH_fcsp3_bacteria)\n",
    "print(\"******\")\n",
    "\n",
    "LOW_mw= len(extra.query(\"LOW_mw==True\"))\n",
    "print(\"LOW_mw\", LOW_mw)\n",
    "LOW_mw_plant = len(extra.query(\"LOW_mw==True and predicted_organism == 'plants'\"))\n",
    "print(\"LOW_mw_plant\", LOW_mw_plant)\n",
    "LOW_mw_fungi = len(extra.query(\"LOW_mw==True and predicted_organism == 'fungi'\"))\n",
    "print(\"LOW_mw_fungi\", LOW_mw_fungi)\n",
    "LOW_mw_bacteria = len(extra.query(\"LOW_mw==True and predicted_organism == 'bacteria'\"))\n",
    "print(\"LOW_mw_bacteria\", LOW_mw_bacteria)\n",
    "print(LOW_mw_bacteria+LOW_mw_fungi+LOW_mw_plant)\n",
    "print(\"******\")\n",
    "\n",
    "HIGH_mw=len(extra.query(\"HIGH_mw==True\"))\n",
    "print(\"HIGH_mw\", HIGH_mw)\n",
    "HIGH_mw_plant=len(extra.query(\"HIGH_mw==True and predicted_organism == 'plants'\"))\n",
    "print(\"HIGH_mw_plant\", HIGH_mw_plant)\n",
    "HIGH_mw_fungi=len(extra.query(\"HIGH_mw==True and predicted_organism == 'fungi'\"))\n",
    "print(\"HIGH_mw_fungi\", HIGH_mw_fungi)\n",
    "HIGH_mw_bacteria=len(extra.query(\"HIGH_mw==True and predicted_organism == 'bacteria'\"))\n",
    "print(\"HIGH_mw_bacteria\", HIGH_mw_bacteria)\n",
    "print(HIGH_mw_plant+HIGH_mw_fungi+HIGH_mw_bacteria)\n",
    "print(\"******\")\n",
    "\n",
    "MED_mw=len(extra.query(\"MED_mw==True and LOW_mw==False\"))\n",
    "print(\"MED_mw\", MED_mw)\n",
    "MED_mw_plants=len(extra.query(\"MED_mw==True and LOW_mw==False and predicted_organism == 'plants'\"))\n",
    "print(\"MED_mw_plants\", MED_mw_plants)\n",
    "MED_mw_fungi=len(extra.query(\"MED_mw==True and LOW_mw==False and predicted_organism == 'fungi'\"))\n",
    "print(\"MED_mw_fungi\", MED_mw_fungi)\n",
    "MED_mw_bacteria=len(extra.query(\"MED_mw==True and LOW_mw==False and predicted_organism == 'bacteria'\"))\n",
    "print(\"MED_mw_bacteria\", MED_mw_bacteria)\n",
    "print(MED_mw_bacteria+MED_mw_fungi+MED_mw_plants)\n",
    "print(\"******\")\n",
    "\n",
    "MED_mw=len(extra.query(\"MW <= 800 and MW >= 300\"))\n",
    "print(\"MED_mw\", MED_mw)\n",
    "MED_mw_plants=len(extra.query(\"MW <= 800 and MW >= 300 and predicted_organism == 'plants'\"))\n",
    "print(\"MED_mw_plants\", MED_mw_plants)\n",
    "MED_mw_fungi=len(extra.query(\"MW <= 800 and MW >= 300 and predicted_organism == 'fungi'\"))\n",
    "print(\"MED_mw_fungi\", MED_mw_fungi)\n",
    "MED_mw_bacteria=len(extra.query(\"MW <= 800 and MW >= 300 and predicted_organism == 'bacteria'\"))\n",
    "print(\"MED_mw_bacteria\", MED_mw_bacteria)\n",
    "print(MED_mw_bacteria+MED_mw_fungi+MED_mw_plants)\n",
    "print(\"******\")\n",
    "\n",
    "\n",
    "\n",
    "peptide=len(extra.query(\"isPeptide==True\"))\n",
    "print(\"peptide\", peptide)\n",
    "peptide_plant=len(extra.query(\"isPeptide==True and predicted_organism == 'plants'\"))\n",
    "print(\"peptide_plant\", peptide_plant)\n",
    "peptide_fungi=len(extra.query(\"isPeptide==True and predicted_organism == 'fungi'\"))\n",
    "print(\"peptide_fungi\", peptide_fungi)\n",
    "peptide_bacteria=len(extra.query(\"isPeptide==True and predicted_organism == 'bacteria'\"))\n",
    "print(\"peptide_bacteria\", peptide_bacteria)\n",
    "print(\"******\")\n",
    "\n",
    "sugar=len(extra.query(\"hasSugar==True\"))\n",
    "print(\"sugar\", sugar)\n",
    "sugar_plants=len(extra.query(\"hasSugar==True and origin ==0\"))\n",
    "print(\"sugar_plants\", sugar_plants)\n",
    "sugar_fungi=len(extra.query(\"hasSugar==True and predicted_organism == 'fungi'\"))\n",
    "print(\"sugar_fungi\", sugar_fungi)\n",
    "sugar_bacteria=len(extra.query(\"hasSugar==True and predicted_organism == 'bacteria'\"))\n",
    "print(\"sugar_bacteria\", sugar_bacteria)\n",
    "print(\"******\")\n",
    "\n",
    "plant = len(extra.query(\"predicted_organism == 'plants'\"))\n",
    "print(\"plant\", plant)\n",
    "fungi = len(extra.query(\"predicted_organism == 'fungi'\"))\n",
    "print(\"fungi\", fungi)\n",
    "bacteria = len(extra.query(\"predicted_organism == 'bacteria'\"))\n",
    "print(\"bacteria\", bacteria)\n",
    "print(\"******\")"
   ]
  }
 ],
 "metadata": {
  "kernelspec": {
   "display_name": "Python 3",
   "language": "python",
   "name": "python3"
  },
  "language_info": {
   "codemirror_mode": {
    "name": "ipython",
    "version": 3
   },
   "file_extension": ".py",
   "mimetype": "text/x-python",
   "name": "python",
   "nbconvert_exporter": "python",
   "pygments_lexer": "ipython3",
   "version": "3.6.10"
  }
 },
 "nbformat": 4,
 "nbformat_minor": 4
}
